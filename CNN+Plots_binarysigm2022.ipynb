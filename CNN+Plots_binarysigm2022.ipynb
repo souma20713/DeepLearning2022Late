{
  "nbformat": 4,
  "nbformat_minor": 0,
  "metadata": {
    "colab": {
      "provenance": [],
      "authorship_tag": "ABX9TyMWQEU4axjeqL+71pRC1GlX",
      "include_colab_link": true
    },
    "kernelspec": {
      "name": "python3",
      "display_name": "Python 3"
    },
    "language_info": {
      "name": "python"
    }
  },
  "cells": [
    {
      "cell_type": "markdown",
      "metadata": {
        "id": "view-in-github",
        "colab_type": "text"
      },
      "source": [
        "<a href=\"https://colab.research.google.com/github/souma20713/DeepLearning2022Late/blob/main/CNN%2BPlots_binarysigm2022.ipynb\" target=\"_parent\"><img src=\"https://colab.research.google.com/assets/colab-badge.svg\" alt=\"Open In Colab\"/></a>"
      ]
    },
    {
      "cell_type": "markdown",
      "source": [
        "# 二値分類問題\n",
        "## 対象がAかどうか、可能性を出す\n",
        "学習モデルのライブラリを読み込む"
      ],
      "metadata": {
        "id": "8ppkMjoKKyy0"
      }
    },
    {
      "cell_type": "code",
      "execution_count": 1,
      "metadata": {
        "id": "50ac0LZyKrGc"
      },
      "outputs": [],
      "source": [
        "from keras.models import Sequential, Model\n",
        "from keras.layers import Conv2D\n",
        "from keras.layers import Flatten\n",
        "from keras.layers import Dense"
      ]
    },
    {
      "cell_type": "code",
      "source": [
        "from IPython.display import SVG\n",
        "from keras.utils.vis_utils import model_to_dot"
      ],
      "metadata": {
        "id": "U51LE5uZK6jM"
      },
      "execution_count": 2,
      "outputs": []
    },
    {
      "cell_type": "code",
      "source": [
        "model = Sequential()"
      ],
      "metadata": {
        "id": "GvKemjQPK8jr"
      },
      "execution_count": 3,
      "outputs": []
    },
    {
      "cell_type": "code",
      "source": [
        "model.add(Conv2D(\n",
        "    filters=3, # フィルター３パターン\n",
        "    kernel_size=(3, 3), # 受容野縦3 横3\n",
        "    input_shape=(6, 6, 1), # 入力画像１個分 縦6, 横6\n",
        "    padding='same', # ゼロパディング\n",
        "    name='Conv2D_1'\n",
        "    ))"
      ],
      "metadata": {
        "id": "54Hq_kJMK-g8"
      },
      "execution_count": 4,
      "outputs": []
    },
    {
      "cell_type": "code",
      "source": [
        "# 全結合層を追加\n",
        "model.add(Flatten(\n",
        "    name='Flatten_1'\n",
        "    ))"
      ],
      "metadata": {
        "id": "-Jgx85hdLA2A"
      },
      "execution_count": 5,
      "outputs": []
    },
    {
      "cell_type": "code",
      "source": [
        "# 全結合のデータを二値分類する層を追加\n",
        "model.add(Dense(\n",
        "    units = 1, # 1つの判定（YES/NO）についての可能性を出す\n",
        "    activation = 'sigmoid', # 活性化関数はsigmoid関数（0～1）\n",
        "    name = 'Dense_1'\n",
        "    ))"
      ],
      "metadata": {
        "id": "WRr5zFT3LVZ5"
      },
      "execution_count": 6,
      "outputs": []
    },
    {
      "cell_type": "code",
      "source": [
        "SVG(model_to_dot(model, show_shapes=True, dpi=None).create(prog='dot', format='svg'))"
      ],
      "metadata": {
        "colab": {
          "base_uri": "https://localhost:8080/",
          "height": 427
        },
        "id": "VOX5SK2-LX7_",
        "outputId": "ff1e1c35-6c00-4b03-ec69-f0bd67ed31cf"
      },
      "execution_count": 7,
      "outputs": [
        {
          "output_type": "execute_result",
          "data": {
            "text/plain": [
              "<IPython.core.display.SVG object>"
            ],
            "image/svg+xml": "<svg xmlns=\"http://www.w3.org/2000/svg\" xmlns:xlink=\"http://www.w3.org/1999/xlink\" width=\"352pt\" height=\"304pt\" viewBox=\"0.00 0.00 352.00 304.00\">\n<g id=\"graph0\" class=\"graph\" transform=\"scale(1 1) rotate(0) translate(4 300)\">\n<title>G</title>\n<polygon fill=\"white\" stroke=\"transparent\" points=\"-4,4 -4,-300 348,-300 348,4 -4,4\"/>\n<!-- dpi -->\n<g id=\"node1\" class=\"node\">\n<title>dpi</title>\n<ellipse fill=\"none\" stroke=\"black\" cx=\"27\" cy=\"-272.5\" rx=\"27\" ry=\"18\"/>\n<text text-anchor=\"middle\" x=\"27\" y=\"-268.8\" font-family=\"Times,serif\" font-size=\"14.00\">dpi</text>\n</g>\n<!-- 139731225345856 -->\n<g id=\"node2\" class=\"node\">\n<title>139731225345856</title>\n<polygon fill=\"none\" stroke=\"black\" points=\"72,-249.5 72,-295.5 344,-295.5 344,-249.5 72,-249.5\"/>\n<text text-anchor=\"middle\" x=\"127\" y=\"-280.3\" font-family=\"Times,serif\" font-size=\"14.00\">Conv2D_1_input</text>\n<polyline fill=\"none\" stroke=\"black\" points=\"72,-272.5 182,-272.5 \"/>\n<text text-anchor=\"middle\" x=\"127\" y=\"-257.3\" font-family=\"Times,serif\" font-size=\"14.00\">InputLayer</text>\n<polyline fill=\"none\" stroke=\"black\" points=\"182,-249.5 182,-295.5 \"/>\n<text text-anchor=\"middle\" x=\"209.5\" y=\"-280.3\" font-family=\"Times,serif\" font-size=\"14.00\">input:</text>\n<polyline fill=\"none\" stroke=\"black\" points=\"182,-272.5 237,-272.5 \"/>\n<text text-anchor=\"middle\" x=\"209.5\" y=\"-257.3\" font-family=\"Times,serif\" font-size=\"14.00\">output:</text>\n<polyline fill=\"none\" stroke=\"black\" points=\"237,-249.5 237,-295.5 \"/>\n<text text-anchor=\"middle\" x=\"290.5\" y=\"-280.3\" font-family=\"Times,serif\" font-size=\"14.00\">[(None, 6, 6, 1)]</text>\n<polyline fill=\"none\" stroke=\"black\" points=\"237,-272.5 344,-272.5 \"/>\n<text text-anchor=\"middle\" x=\"290.5\" y=\"-257.3\" font-family=\"Times,serif\" font-size=\"14.00\">[(None, 6, 6, 1)]</text>\n</g>\n<!-- 139731225345904 -->\n<g id=\"node3\" class=\"node\">\n<title>139731225345904</title>\n<polygon fill=\"none\" stroke=\"black\" points=\"93.5,-166.5 93.5,-212.5 322.5,-212.5 322.5,-166.5 93.5,-166.5\"/>\n<text text-anchor=\"middle\" x=\"131.5\" y=\"-197.3\" font-family=\"Times,serif\" font-size=\"14.00\">Conv2D_1</text>\n<polyline fill=\"none\" stroke=\"black\" points=\"93.5,-189.5 169.5,-189.5 \"/>\n<text text-anchor=\"middle\" x=\"131.5\" y=\"-174.3\" font-family=\"Times,serif\" font-size=\"14.00\">Conv2D</text>\n<polyline fill=\"none\" stroke=\"black\" points=\"169.5,-166.5 169.5,-212.5 \"/>\n<text text-anchor=\"middle\" x=\"197\" y=\"-197.3\" font-family=\"Times,serif\" font-size=\"14.00\">input:</text>\n<polyline fill=\"none\" stroke=\"black\" points=\"169.5,-189.5 224.5,-189.5 \"/>\n<text text-anchor=\"middle\" x=\"197\" y=\"-174.3\" font-family=\"Times,serif\" font-size=\"14.00\">output:</text>\n<polyline fill=\"none\" stroke=\"black\" points=\"224.5,-166.5 224.5,-212.5 \"/>\n<text text-anchor=\"middle\" x=\"273.5\" y=\"-197.3\" font-family=\"Times,serif\" font-size=\"14.00\">(None, 6, 6, 1)</text>\n<polyline fill=\"none\" stroke=\"black\" points=\"224.5,-189.5 322.5,-189.5 \"/>\n<text text-anchor=\"middle\" x=\"273.5\" y=\"-174.3\" font-family=\"Times,serif\" font-size=\"14.00\">(None, 6, 6, 3)</text>\n</g>\n<!-- 139731225345856&#45;&gt;139731225345904 -->\n<g id=\"edge1\" class=\"edge\">\n<title>139731225345856-&gt;139731225345904</title>\n<path fill=\"none\" stroke=\"black\" d=\"M208,-249.37C208,-241.15 208,-231.66 208,-222.73\"/>\n<polygon fill=\"black\" stroke=\"black\" points=\"211.5,-222.61 208,-212.61 204.5,-222.61 211.5,-222.61\"/>\n</g>\n<!-- 139731225344800 -->\n<g id=\"node4\" class=\"node\">\n<title>139731225344800</title>\n<polygon fill=\"none\" stroke=\"black\" points=\"97.5,-83.5 97.5,-129.5 318.5,-129.5 318.5,-83.5 97.5,-83.5\"/>\n<text text-anchor=\"middle\" x=\"131.5\" y=\"-114.3\" font-family=\"Times,serif\" font-size=\"14.00\">Flatten_1</text>\n<polyline fill=\"none\" stroke=\"black\" points=\"97.5,-106.5 165.5,-106.5 \"/>\n<text text-anchor=\"middle\" x=\"131.5\" y=\"-91.3\" font-family=\"Times,serif\" font-size=\"14.00\">Flatten</text>\n<polyline fill=\"none\" stroke=\"black\" points=\"165.5,-83.5 165.5,-129.5 \"/>\n<text text-anchor=\"middle\" x=\"193\" y=\"-114.3\" font-family=\"Times,serif\" font-size=\"14.00\">input:</text>\n<polyline fill=\"none\" stroke=\"black\" points=\"165.5,-106.5 220.5,-106.5 \"/>\n<text text-anchor=\"middle\" x=\"193\" y=\"-91.3\" font-family=\"Times,serif\" font-size=\"14.00\">output:</text>\n<polyline fill=\"none\" stroke=\"black\" points=\"220.5,-83.5 220.5,-129.5 \"/>\n<text text-anchor=\"middle\" x=\"269.5\" y=\"-114.3\" font-family=\"Times,serif\" font-size=\"14.00\">(None, 6, 6, 3)</text>\n<polyline fill=\"none\" stroke=\"black\" points=\"220.5,-106.5 318.5,-106.5 \"/>\n<text text-anchor=\"middle\" x=\"269.5\" y=\"-91.3\" font-family=\"Times,serif\" font-size=\"14.00\">(None, 108)</text>\n</g>\n<!-- 139731225345904&#45;&gt;139731225344800 -->\n<g id=\"edge2\" class=\"edge\">\n<title>139731225345904-&gt;139731225344800</title>\n<path fill=\"none\" stroke=\"black\" d=\"M208,-166.37C208,-158.15 208,-148.66 208,-139.73\"/>\n<polygon fill=\"black\" stroke=\"black\" points=\"211.5,-139.61 208,-129.61 204.5,-139.61 211.5,-139.61\"/>\n</g>\n<!-- 139731151788880 -->\n<g id=\"node5\" class=\"node\">\n<title>139731151788880</title>\n<polygon fill=\"none\" stroke=\"black\" points=\"107,-0.5 107,-46.5 309,-46.5 309,-0.5 107,-0.5\"/>\n<text text-anchor=\"middle\" x=\"139\" y=\"-31.3\" font-family=\"Times,serif\" font-size=\"14.00\">Dense_1</text>\n<polyline fill=\"none\" stroke=\"black\" points=\"107,-23.5 171,-23.5 \"/>\n<text text-anchor=\"middle\" x=\"139\" y=\"-8.3\" font-family=\"Times,serif\" font-size=\"14.00\">Dense</text>\n<polyline fill=\"none\" stroke=\"black\" points=\"171,-0.5 171,-46.5 \"/>\n<text text-anchor=\"middle\" x=\"198.5\" y=\"-31.3\" font-family=\"Times,serif\" font-size=\"14.00\">input:</text>\n<polyline fill=\"none\" stroke=\"black\" points=\"171,-23.5 226,-23.5 \"/>\n<text text-anchor=\"middle\" x=\"198.5\" y=\"-8.3\" font-family=\"Times,serif\" font-size=\"14.00\">output:</text>\n<polyline fill=\"none\" stroke=\"black\" points=\"226,-0.5 226,-46.5 \"/>\n<text text-anchor=\"middle\" x=\"267.5\" y=\"-31.3\" font-family=\"Times,serif\" font-size=\"14.00\">(None, 108)</text>\n<polyline fill=\"none\" stroke=\"black\" points=\"226,-23.5 309,-23.5 \"/>\n<text text-anchor=\"middle\" x=\"267.5\" y=\"-8.3\" font-family=\"Times,serif\" font-size=\"14.00\">(None, 1)</text>\n</g>\n<!-- 139731225344800&#45;&gt;139731151788880 -->\n<g id=\"edge3\" class=\"edge\">\n<title>139731225344800-&gt;139731151788880</title>\n<path fill=\"none\" stroke=\"black\" d=\"M208,-83.37C208,-75.15 208,-65.66 208,-56.73\"/>\n<polygon fill=\"black\" stroke=\"black\" points=\"211.5,-56.61 208,-46.61 204.5,-56.61 211.5,-56.61\"/>\n</g>\n</g>\n</svg>"
          },
          "metadata": {},
          "execution_count": 7
        }
      ]
    },
    {
      "cell_type": "code",
      "source": [],
      "metadata": {
        "id": "GtBFuvbPLZCe"
      },
      "execution_count": null,
      "outputs": []
    }
  ]
}