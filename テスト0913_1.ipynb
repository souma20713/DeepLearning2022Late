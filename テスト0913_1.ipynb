{
  "nbformat": 4,
  "nbformat_minor": 0,
  "metadata": {
    "colab": {
      "provenance": [],
      "authorship_tag": "ABX9TyPleQh0fFgkB3k0yx5EuD8w",
      "include_colab_link": true
    },
    "kernelspec": {
      "name": "python3",
      "display_name": "Python 3"
    },
    "language_info": {
      "name": "python"
    }
  },
  "cells": [
    {
      "cell_type": "markdown",
      "metadata": {
        "id": "view-in-github",
        "colab_type": "text"
      },
      "source": [
        "<a href=\"https://colab.research.google.com/github/souma20713/DeepLearning2022Late/blob/main/%E3%83%86%E3%82%B9%E3%83%880913_1.ipynb\" target=\"_parent\"><img src=\"https://colab.research.google.com/assets/colab-badge.svg\" alt=\"Open In Colab\"/></a>"
      ]
    },
    {
      "cell_type": "code",
      "execution_count": null,
      "metadata": {
        "id": "AxFJukF1UHIV"
      },
      "outputs": [],
      "source": []
    },
    {
      "cell_type": "markdown",
      "source": [
        "***リスト型とタプル型***\n",
        "\n"
      ],
      "metadata": {
        "id": "TnP293AnVDuG"
      }
    },
    {
      "cell_type": "code",
      "source": [
        "list = [\"アップル\",\"ペン\",\"ペン\",\"パイナップル\"]\n",
        "print(list)\n",
        "print(list[1]+list[2])"
      ],
      "metadata": {
        "colab": {
          "base_uri": "https://localhost:8080/"
        },
        "id": "WzuqeurIUwxY",
        "outputId": "3e23e2fd-99ad-410e-9b53-ed14bc79339c"
      },
      "execution_count": 1,
      "outputs": [
        {
          "output_type": "stream",
          "name": "stdout",
          "text": [
            "['アップル', 'ペン', 'ペン', 'パイナップル']\n",
            "ペンペン\n"
          ]
        }
      ]
    },
    {
      "cell_type": "code",
      "source": [
        "tuple=[\"アップル\",\"ペン\",\"ペン\",\"パイナップル\"]\n",
        "print(tuple)\n",
        "print(tuple[1]+tuple[2])"
      ],
      "metadata": {
        "colab": {
          "base_uri": "https://localhost:8080/"
        },
        "id": "DN0PhdafWEY3",
        "outputId": "d31ba944-1f85-4dd9-a7ab-d36aaf092be5"
      },
      "execution_count": 2,
      "outputs": [
        {
          "output_type": "stream",
          "name": "stdout",
          "text": [
            "['アップル', 'ペン', 'ペン', 'パイナップル']\n",
            "ペンペン\n"
          ]
        }
      ]
    },
    {
      "cell_type": "markdown",
      "source": [
        "構成を変更できるのはリスト\n",
        "\n",
        "構成をできないのは（固定）タプル"
      ],
      "metadata": {
        "id": "7h9c32ZSXUtY"
      }
    },
    {
      "cell_type": "code",
      "source": [
        "print(list)\n",
        "list.append(100)\n",
        "print(list)\n",
        "del list[2]\n",
        "print(list)\n",
        "list[3]=\"ペン\"\n",
        "print(list)\n",
        "list.insert(2,\"ペン\")\n",
        "print(list)"
      ],
      "metadata": {
        "colab": {
          "base_uri": "https://localhost:8080/"
        },
        "id": "KkrKA1WuXq8D",
        "outputId": "16f07615-8213-4ce9-bfd4-4380c4b3fb39"
      },
      "execution_count": 3,
      "outputs": [
        {
          "output_type": "stream",
          "name": "stdout",
          "text": [
            "['アップル', 'ペン', 'ペン', 'パイナップル']\n",
            "['アップル', 'ペン', 'ペン', 'パイナップル', 100]\n",
            "['アップル', 'ペン', 'パイナップル', 100]\n",
            "['アップル', 'ペン', 'パイナップル', 'ペン']\n",
            "['アップル', 'ペン', 'ペン', 'パイナップル', 'ペン']\n"
          ]
        }
      ]
    },
    {
      "cell_type": "markdown",
      "source": [
        "タプルやリストの長さの取得"
      ],
      "metadata": {
        "id": "ScN6Ed7HbYvZ"
      }
    },
    {
      "cell_type": "code",
      "source": [
        "print(list)\n",
        "print(len(list))"
      ],
      "metadata": {
        "colab": {
          "base_uri": "https://localhost:8080/"
        },
        "id": "raAlhgWrYmRa",
        "outputId": "6992bdbb-a3d3-4b47-9d2f-4c16ade01704"
      },
      "execution_count": 4,
      "outputs": [
        {
          "output_type": "stream",
          "name": "stdout",
          "text": [
            "['アップル', 'ペン', 'ペン', 'パイナップル', 'ペン']\n",
            "5\n"
          ]
        }
      ]
    },
    {
      "cell_type": "markdown",
      "source": [
        "スライス\n",
        "### データを抽出する（でーたの一部分取り出す）\n"
      ],
      "metadata": {
        "id": "SO5XOVUVb881"
      }
    },
    {
      "cell_type": "code",
      "source": [
        "print(list)\n",
        "print(list[1])\n",
        "print(list[1:3])\n",
        "print(list[1:])"
      ],
      "metadata": {
        "colab": {
          "base_uri": "https://localhost:8080/"
        },
        "id": "kLjCATb7bp2d",
        "outputId": "2a1c41b0-0df4-46dd-f57c-dce4f6287a28"
      },
      "execution_count": 5,
      "outputs": [
        {
          "output_type": "stream",
          "name": "stdout",
          "text": [
            "['アップル', 'ペン', 'ペン', 'パイナップル', 'ペン']\n",
            "ペン\n",
            "['ペン', 'ペン']\n",
            "['ペン', 'ペン', 'パイナップル', 'ペン']\n"
          ]
        }
      ]
    },
    {
      "cell_type": "markdown",
      "source": [
        "# *SET型（集合型）*\n",
        "集合型SETは、順番を持たない。重複したデータ持たない"
      ],
      "metadata": {
        "id": "cie8WQ9Xez4Z"
      }
    },
    {
      "cell_type": "code",
      "source": [
        "uniq=set([\"アップル\",\"ペン\",\"ペン\",\"パイナップル\"])\n",
        "print(uniq)"
      ],
      "metadata": {
        "colab": {
          "base_uri": "https://localhost:8080/"
        },
        "id": "5kZAoDBFdT3x",
        "outputId": "2c87b342-e755-41e2-b4bb-db9b13308e22"
      },
      "execution_count": 6,
      "outputs": [
        {
          "output_type": "stream",
          "name": "stdout",
          "text": [
            "{'アップル', 'パイナップル', 'ペン'}\n"
          ]
        }
      ]
    },
    {
      "cell_type": "markdown",
      "source": [
        "### 集合型の追加変更削除"
      ],
      "metadata": {
        "id": "FMydrMu6hp7v"
      }
    },
    {
      "cell_type": "code",
      "source": [
        "print(uniq)\n",
        "uniq.add(\"バナナ\")\n",
        "uniq.remove(\"ペン\")\n",
        "print(uniq)"
      ],
      "metadata": {
        "colab": {
          "base_uri": "https://localhost:8080/"
        },
        "id": "lEthypbFgdqD",
        "outputId": "3ed5d213-c771-4bf4-c820-9cd77ac4e2f4"
      },
      "execution_count": 7,
      "outputs": [
        {
          "output_type": "stream",
          "name": "stdout",
          "text": [
            "{'アップル', 'パイナップル', 'ペン'}\n",
            "{'アップル', 'パイナップル', 'バナナ'}\n"
          ]
        }
      ]
    },
    {
      "cell_type": "markdown",
      "source": [
        "# 集合演算\n",
        "包括、積、和、差分"
      ],
      "metadata": {
        "id": "snR7Y5ljiGZV"
      }
    },
    {
      "cell_type": "code",
      "source": [
        "uniq=set([\"アップル\",\"ペン\",\"ペン\",\"パイナップル\"])\n",
        "a=set([\"アップル\",\"ペン\"])\n",
        "b=set([\"ペン\",\"パイナップル\"])\n",
        "print(uniq)\n",
        "print(a)\n",
        "print(b)\n",
        "a.issubset(uniq)\n",
        "\"ペン\" in a"
      ],
      "metadata": {
        "colab": {
          "base_uri": "https://localhost:8080/"
        },
        "id": "ThRJqgONiD61",
        "outputId": "aad8c8e0-23ab-4a1d-d606-866a246e292f"
      },
      "execution_count": 9,
      "outputs": [
        {
          "output_type": "stream",
          "name": "stdout",
          "text": [
            "{'アップル', 'パイナップル', 'ペン'}\n",
            "{'アップル', 'ペン'}\n",
            "{'パイナップル', 'ペン'}\n"
          ]
        },
        {
          "output_type": "execute_result",
          "data": {
            "text/plain": [
              "True"
            ]
          },
          "metadata": {},
          "execution_count": 9
        }
      ]
    },
    {
      "cell_type": "markdown",
      "source": [],
      "metadata": {
        "id": "kQO7ac0gp6uc"
      }
    },
    {
      "cell_type": "code",
      "source": [
        "#ある集合と別の集合の共通部分の要素（intersection）\n",
        "print(a)\n",
        "print(b)\n",
        "print(a.intersection(b))\n",
        "a.union(b)\n",
        "a.difference(b)#aからbを取り除いた残り（差分：difference）"
      ],
      "metadata": {
        "colab": {
          "base_uri": "https://localhost:8080/"
        },
        "id": "3XwkJSO9jyZd",
        "outputId": "c5bf4172-eb79-4def-bdfe-fb1c87aaf95c"
      },
      "execution_count": 11,
      "outputs": [
        {
          "output_type": "stream",
          "name": "stdout",
          "text": [
            "{'アップル', 'ペン'}\n",
            "{'パイナップル', 'ペン'}\n",
            "{'ペン'}\n"
          ]
        }
      ]
    },
    {
      "cell_type": "code",
      "source": [],
      "metadata": {
        "id": "ZnMM771TrWR-"
      },
      "execution_count": null,
      "outputs": []
    }
  ]
}