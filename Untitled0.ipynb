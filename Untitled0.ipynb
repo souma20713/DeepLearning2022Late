{
  "nbformat": 4,
  "nbformat_minor": 0,
  "metadata": {
    "colab": {
      "provenance": [],
      "authorship_tag": "ABX9TyN0ExucrqZ4S+K3pR/39s6d",
      "include_colab_link": true
    },
    "kernelspec": {
      "name": "python3",
      "display_name": "Python 3"
    },
    "language_info": {
      "name": "python"
    }
  },
  "cells": [
    {
      "cell_type": "markdown",
      "metadata": {
        "id": "view-in-github",
        "colab_type": "text"
      },
      "source": [
        "<a href=\"https://colab.research.google.com/github/souma20713/DeepLearning2022Late/blob/main/Untitled0.ipynb\" target=\"_parent\"><img src=\"https://colab.research.google.com/assets/colab-badge.svg\" alt=\"Open In Colab\"/></a>"
      ]
    },
    {
      "cell_type": "markdown",
      "source": [
        "### Kerasを使用したディープラーニングをやってみる画像確認を行う"
      ],
      "metadata": {
        "id": "Z0UGNNuS5LxY"
      }
    },
    {
      "cell_type": "code",
      "execution_count": 8,
      "metadata": {
        "id": "bOABT7Qt4GJn"
      },
      "outputs": [],
      "source": [
        "%matplotlib inline\n",
        "from keras.applications.vgg16 import VGG16,preprocess_input, decode_predictions\n",
        "from keras.preprocessing import image\n",
        "from PIL import Image\n",
        "import matplotlib.pyplot as plt\n",
        "import numpy as np\n",
        "import sys"
      ]
    },
    {
      "cell_type": "markdown",
      "source": [
        "## 学習済みモデルの読み込み"
      ],
      "metadata": {
        "id": "YYzybpjw81Mc"
      }
    },
    {
      "cell_type": "code",
      "source": [
        "model =VGG16(weights=\"imagenet\")"
      ],
      "metadata": {
        "id": "OLlGdxpm6FQV"
      },
      "execution_count": 9,
      "outputs": []
    },
    {
      "cell_type": "markdown",
      "source": [
        "### 画像判定のための関数"
      ],
      "metadata": {
        "id": "4x6bxufB9F07"
      }
    },
    {
      "cell_type": "code",
      "source": [
        "def predict(filename, featuresize):\n",
        "  img= image.load_img(filename, target_size(224,224))\n",
        "  x= image_.img_to_array(img)\n",
        "  x= np.expand_dims(x,axis=0)\n",
        "  preds=model.predict(preprocess_input(x))\n",
        "  results =  decode_predictions( preds, top=featuresize)[0]\n",
        "  return results"
      ],
      "metadata": {
        "id": "mJSM0i5H9EYK"
      },
      "execution_count": 12,
      "outputs": []
    },
    {
      "cell_type": "code",
      "source": [
        "def showing (filename, title, ):\n",
        "  im=Image.open(filename)\n",
        "  im_list=np.array(im)\n",
        "  plt.subplot(2,5,i)\n",
        "  plt.title(title)\n",
        "  plt.axis(\"off\")\n",
        "  plt.imshow(im_list)"
      ],
      "metadata": {
        "id": "A8NnSLyS-ThQ"
      },
      "execution_count": 13,
      "outputs": []
    },
    {
      "cell_type": "markdown",
      "source": [
        "## Kaggeにある画像データを利用する"
      ],
      "metadata": {
        "id": "hxMBkgiVB45n"
      }
    },
    {
      "cell_type": "code",
      "source": [],
      "metadata": {
        "id": "1wzwMwHPBEeK"
      },
      "execution_count": null,
      "outputs": []
    }
  ]
}