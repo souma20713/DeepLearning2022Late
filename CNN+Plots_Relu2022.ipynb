{
  "nbformat": 4,
  "nbformat_minor": 0,
  "metadata": {
    "colab": {
      "provenance": [],
      "authorship_tag": "ABX9TyOOzjNQJrgO5lOHdb3f2RIK",
      "include_colab_link": true
    },
    "kernelspec": {
      "name": "python3",
      "display_name": "Python 3"
    },
    "language_info": {
      "name": "python"
    }
  },
  "cells": [
    {
      "cell_type": "markdown",
      "metadata": {
        "id": "view-in-github",
        "colab_type": "text"
      },
      "source": [
        "<a href=\"https://colab.research.google.com/github/souma20713/DeepLearning2022Late/blob/main/CNN%2BPlots_Relu2022.ipynb\" target=\"_parent\"><img src=\"https://colab.research.google.com/assets/colab-badge.svg\" alt=\"Open In Colab\"/></a>"
      ]
    },
    {
      "cell_type": "code",
      "execution_count": 1,
      "metadata": {
        "id": "PARgU_f8IoMp"
      },
      "outputs": [],
      "source": [
        "from keras.models import Sequential, Model\n",
        "from keras.layers import Conv2D"
      ]
    },
    {
      "cell_type": "code",
      "source": [
        "from IPython.display import SVG\n",
        "from keras.utils.vis_utils import model_to_dot"
      ],
      "metadata": {
        "id": "7BaAZ4ssJDv-"
      },
      "execution_count": 2,
      "outputs": []
    },
    {
      "cell_type": "code",
      "source": [
        "model = Sequential()"
      ],
      "metadata": {
        "id": "9W09FViiJu8J"
      },
      "execution_count": 3,
      "outputs": []
    },
    {
      "cell_type": "code",
      "source": [
        "model.add(Conv2D(\n",
        "    filters=3, # 種類のフィルターをかける\n",
        "    kernel_size=(3, 3), # 受容野（カーネル）の大きさ縦3, 横3\n",
        "    input_shape=(6, 6, 1), # 入力画像の1個のサイズ縦6, 横6\n",
        "    activation='relu', # 活性化関数（Activation）をrelu関数で指定\n",
        "    name='Conv2D_1',\n",
        "    ))"
      ],
      "metadata": {
        "id": "iaVl-TKtJxah"
      },
      "execution_count": 4,
      "outputs": []
    },
    {
      "cell_type": "code",
      "source": [
        "SVG(model_to_dot(model, show_shapes=True, dpi=None).create(prog='dot', format='svg'))"
      ],
      "metadata": {
        "colab": {
          "base_uri": "https://localhost:8080/",
          "height": 206
        },
        "id": "3I3jwdrqJzlZ",
        "outputId": "17eebada-4ac5-4f43-e8c7-25fe7d1cec44"
      },
      "execution_count": 5,
      "outputs": [
        {
          "output_type": "execute_result",
          "data": {
            "text/plain": [
              "<IPython.core.display.SVG object>"
            ],
            "image/svg+xml": "<svg xmlns=\"http://www.w3.org/2000/svg\" xmlns:xlink=\"http://www.w3.org/1999/xlink\" width=\"352pt\" height=\"138pt\" viewBox=\"0.00 0.00 352.00 138.00\">\n<g id=\"graph0\" class=\"graph\" transform=\"scale(1 1) rotate(0) translate(4 134)\">\n<title>G</title>\n<polygon fill=\"white\" stroke=\"transparent\" points=\"-4,4 -4,-134 348,-134 348,4 -4,4\"/>\n<!-- dpi -->\n<g id=\"node1\" class=\"node\">\n<title>dpi</title>\n<ellipse fill=\"none\" stroke=\"black\" cx=\"27\" cy=\"-106.5\" rx=\"27\" ry=\"18\"/>\n<text text-anchor=\"middle\" x=\"27\" y=\"-102.8\" font-family=\"Times,serif\" font-size=\"14.00\">dpi</text>\n</g>\n<!-- 140196867548256 -->\n<g id=\"node2\" class=\"node\">\n<title>140196867548256</title>\n<polygon fill=\"none\" stroke=\"black\" points=\"72,-83.5 72,-129.5 344,-129.5 344,-83.5 72,-83.5\"/>\n<text text-anchor=\"middle\" x=\"127\" y=\"-114.3\" font-family=\"Times,serif\" font-size=\"14.00\">Conv2D_1_input</text>\n<polyline fill=\"none\" stroke=\"black\" points=\"72,-106.5 182,-106.5 \"/>\n<text text-anchor=\"middle\" x=\"127\" y=\"-91.3\" font-family=\"Times,serif\" font-size=\"14.00\">InputLayer</text>\n<polyline fill=\"none\" stroke=\"black\" points=\"182,-83.5 182,-129.5 \"/>\n<text text-anchor=\"middle\" x=\"209.5\" y=\"-114.3\" font-family=\"Times,serif\" font-size=\"14.00\">input:</text>\n<polyline fill=\"none\" stroke=\"black\" points=\"182,-106.5 237,-106.5 \"/>\n<text text-anchor=\"middle\" x=\"209.5\" y=\"-91.3\" font-family=\"Times,serif\" font-size=\"14.00\">output:</text>\n<polyline fill=\"none\" stroke=\"black\" points=\"237,-83.5 237,-129.5 \"/>\n<text text-anchor=\"middle\" x=\"290.5\" y=\"-114.3\" font-family=\"Times,serif\" font-size=\"14.00\">[(None, 6, 6, 1)]</text>\n<polyline fill=\"none\" stroke=\"black\" points=\"237,-106.5 344,-106.5 \"/>\n<text text-anchor=\"middle\" x=\"290.5\" y=\"-91.3\" font-family=\"Times,serif\" font-size=\"14.00\">[(None, 6, 6, 1)]</text>\n</g>\n<!-- 140196867548304 -->\n<g id=\"node3\" class=\"node\">\n<title>140196867548304</title>\n<polygon fill=\"none\" stroke=\"black\" points=\"93.5,-0.5 93.5,-46.5 322.5,-46.5 322.5,-0.5 93.5,-0.5\"/>\n<text text-anchor=\"middle\" x=\"131.5\" y=\"-31.3\" font-family=\"Times,serif\" font-size=\"14.00\">Conv2D_1</text>\n<polyline fill=\"none\" stroke=\"black\" points=\"93.5,-23.5 169.5,-23.5 \"/>\n<text text-anchor=\"middle\" x=\"131.5\" y=\"-8.3\" font-family=\"Times,serif\" font-size=\"14.00\">Conv2D</text>\n<polyline fill=\"none\" stroke=\"black\" points=\"169.5,-0.5 169.5,-46.5 \"/>\n<text text-anchor=\"middle\" x=\"197\" y=\"-31.3\" font-family=\"Times,serif\" font-size=\"14.00\">input:</text>\n<polyline fill=\"none\" stroke=\"black\" points=\"169.5,-23.5 224.5,-23.5 \"/>\n<text text-anchor=\"middle\" x=\"197\" y=\"-8.3\" font-family=\"Times,serif\" font-size=\"14.00\">output:</text>\n<polyline fill=\"none\" stroke=\"black\" points=\"224.5,-0.5 224.5,-46.5 \"/>\n<text text-anchor=\"middle\" x=\"273.5\" y=\"-31.3\" font-family=\"Times,serif\" font-size=\"14.00\">(None, 6, 6, 1)</text>\n<polyline fill=\"none\" stroke=\"black\" points=\"224.5,-23.5 322.5,-23.5 \"/>\n<text text-anchor=\"middle\" x=\"273.5\" y=\"-8.3\" font-family=\"Times,serif\" font-size=\"14.00\">(None, 4, 4, 3)</text>\n</g>\n<!-- 140196867548256&#45;&gt;140196867548304 -->\n<g id=\"edge1\" class=\"edge\">\n<title>140196867548256-&gt;140196867548304</title>\n<path fill=\"none\" stroke=\"black\" d=\"M208,-83.37C208,-75.15 208,-65.66 208,-56.73\"/>\n<polygon fill=\"black\" stroke=\"black\" points=\"211.5,-56.61 208,-46.61 204.5,-56.61 211.5,-56.61\"/>\n</g>\n</g>\n</svg>"
          },
          "metadata": {},
          "execution_count": 5
        }
      ]
    },
    {
      "cell_type": "code",
      "source": [],
      "metadata": {
        "id": "nv4sJlewJ12M"
      },
      "execution_count": null,
      "outputs": []
    }
  ]
}