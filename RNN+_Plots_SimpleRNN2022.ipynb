{
  "nbformat": 4,
  "nbformat_minor": 0,
  "metadata": {
    "colab": {
      "provenance": [],
      "toc_visible": true,
      "authorship_tag": "ABX9TyMOEjKV9g2VQBkvoHMiclKT",
      "include_colab_link": true
    },
    "kernelspec": {
      "name": "python3",
      "display_name": "Python 3"
    },
    "language_info": {
      "name": "python"
    },
    "accelerator": "GPU",
    "gpuClass": "standard"
  },
  "cells": [
    {
      "cell_type": "markdown",
      "metadata": {
        "id": "view-in-github",
        "colab_type": "text"
      },
      "source": [
        "<a href=\"https://colab.research.google.com/github/souma20713/DeepLearning2022Late/blob/main/RNN%2B_Plots_SimpleRNN2022.ipynb\" target=\"_parent\"><img src=\"https://colab.research.google.com/assets/colab-badge.svg\" alt=\"Open In Colab\"/></a>"
      ]
    },
    {
      "cell_type": "code",
      "execution_count": 1,
      "metadata": {
        "id": "QjJx8YvhdkQm"
      },
      "outputs": [],
      "source": [
        "from keras.models import Model\n",
        "from keras.layers import Input, SimpleRNN"
      ]
    },
    {
      "cell_type": "code",
      "source": [
        "from IPython.display import SVG\n",
        "from keras.utils.vis_utils import model_to_dot"
      ],
      "metadata": {
        "id": "rT7X_Yxveyub"
      },
      "execution_count": 5,
      "outputs": []
    },
    {
      "cell_type": "code",
      "source": [
        "units=10\n",
        "time_steps =5\n",
        "input_dim=15\n",
        "input_shape =(time_steps, input_dim)"
      ],
      "metadata": {
        "id": "cigof1WmXwVz"
      },
      "execution_count": 6,
      "outputs": []
    },
    {
      "cell_type": "code",
      "source": [
        "x=Input(shape=input_shape, name='Input')\n",
        "y=SimpleRNN(units=units, activation='sigmoid', name='SimpleRNN_1') (x)\n",
        "model=Model(inputs=[x], outputs=[y])\n",
        "SVG( model_to_dot(model,show_shapes=True, dpi=None)\n",
        ".create( prog='dot', format='svg'))"
      ],
      "metadata": {
        "id": "7ikrwAL4ahGc",
        "colab": {
          "base_uri": "https://localhost:8080/",
          "height": 206
        },
        "outputId": "10fc0757-3187-420b-970e-e3b4e52a4c68"
      },
      "execution_count": 7,
      "outputs": [
        {
          "output_type": "execute_result",
          "data": {
            "text/plain": [
              "<IPython.core.display.SVG object>"
            ],
            "image/svg+xml": "<svg xmlns=\"http://www.w3.org/2000/svg\" xmlns:xlink=\"http://www.w3.org/1999/xlink\" width=\"318pt\" height=\"138pt\" viewBox=\"0.00 0.00 317.50 138.00\">\n<g id=\"graph0\" class=\"graph\" transform=\"scale(1 1) rotate(0) translate(4 134)\">\n<title>G</title>\n<polygon fill=\"white\" stroke=\"transparent\" points=\"-4,4 -4,-134 313.5,-134 313.5,4 -4,4\"/>\n<!-- dpi -->\n<g id=\"node1\" class=\"node\">\n<title>dpi</title>\n<ellipse fill=\"none\" stroke=\"black\" cx=\"27\" cy=\"-106.5\" rx=\"27\" ry=\"18\"/>\n<text text-anchor=\"middle\" x=\"27\" y=\"-102.8\" font-family=\"Times,serif\" font-size=\"14.00\">dpi</text>\n</g>\n<!-- 140060921165520 -->\n<g id=\"node2\" class=\"node\">\n<title>140060921165520</title>\n<polygon fill=\"none\" stroke=\"black\" points=\"72.5,-83.5 72.5,-129.5 303.5,-129.5 303.5,-83.5 72.5,-83.5\"/>\n<text text-anchor=\"middle\" x=\"111\" y=\"-114.3\" font-family=\"Times,serif\" font-size=\"14.00\">Input</text>\n<polyline fill=\"none\" stroke=\"black\" points=\"72.5,-106.5 149.5,-106.5 \"/>\n<text text-anchor=\"middle\" x=\"111\" y=\"-91.3\" font-family=\"Times,serif\" font-size=\"14.00\">InputLayer</text>\n<polyline fill=\"none\" stroke=\"black\" points=\"149.5,-83.5 149.5,-129.5 \"/>\n<text text-anchor=\"middle\" x=\"177\" y=\"-114.3\" font-family=\"Times,serif\" font-size=\"14.00\">input:</text>\n<polyline fill=\"none\" stroke=\"black\" points=\"149.5,-106.5 204.5,-106.5 \"/>\n<text text-anchor=\"middle\" x=\"177\" y=\"-91.3\" font-family=\"Times,serif\" font-size=\"14.00\">output:</text>\n<polyline fill=\"none\" stroke=\"black\" points=\"204.5,-83.5 204.5,-129.5 \"/>\n<text text-anchor=\"middle\" x=\"254\" y=\"-114.3\" font-family=\"Times,serif\" font-size=\"14.00\">[(None, 5, 15)]</text>\n<polyline fill=\"none\" stroke=\"black\" points=\"204.5,-106.5 303.5,-106.5 \"/>\n<text text-anchor=\"middle\" x=\"254\" y=\"-91.3\" font-family=\"Times,serif\" font-size=\"14.00\">[(None, 5, 15)]</text>\n</g>\n<!-- 140060921166048 -->\n<g id=\"node3\" class=\"node\">\n<title>140060921166048</title>\n<polygon fill=\"none\" stroke=\"black\" points=\"66.5,-0.5 66.5,-46.5 309.5,-46.5 309.5,-0.5 66.5,-0.5\"/>\n<text text-anchor=\"middle\" x=\"115.5\" y=\"-31.3\" font-family=\"Times,serif\" font-size=\"14.00\">SimpleRNN_1</text>\n<polyline fill=\"none\" stroke=\"black\" points=\"66.5,-23.5 164.5,-23.5 \"/>\n<text text-anchor=\"middle\" x=\"115.5\" y=\"-8.3\" font-family=\"Times,serif\" font-size=\"14.00\">SimpleRNN</text>\n<polyline fill=\"none\" stroke=\"black\" points=\"164.5,-0.5 164.5,-46.5 \"/>\n<text text-anchor=\"middle\" x=\"192\" y=\"-31.3\" font-family=\"Times,serif\" font-size=\"14.00\">input:</text>\n<polyline fill=\"none\" stroke=\"black\" points=\"164.5,-23.5 219.5,-23.5 \"/>\n<text text-anchor=\"middle\" x=\"192\" y=\"-8.3\" font-family=\"Times,serif\" font-size=\"14.00\">output:</text>\n<polyline fill=\"none\" stroke=\"black\" points=\"219.5,-0.5 219.5,-46.5 \"/>\n<text text-anchor=\"middle\" x=\"264.5\" y=\"-31.3\" font-family=\"Times,serif\" font-size=\"14.00\">(None, 5, 15)</text>\n<polyline fill=\"none\" stroke=\"black\" points=\"219.5,-23.5 309.5,-23.5 \"/>\n<text text-anchor=\"middle\" x=\"264.5\" y=\"-8.3\" font-family=\"Times,serif\" font-size=\"14.00\">(None, 10)</text>\n</g>\n<!-- 140060921165520&#45;&gt;140060921166048 -->\n<g id=\"edge1\" class=\"edge\">\n<title>140060921165520-&gt;140060921166048</title>\n<path fill=\"none\" stroke=\"black\" d=\"M188,-83.37C188,-75.15 188,-65.66 188,-56.73\"/>\n<polygon fill=\"black\" stroke=\"black\" points=\"191.5,-56.61 188,-46.61 184.5,-56.61 191.5,-56.61\"/>\n</g>\n</g>\n</svg>"
          },
          "metadata": {},
          "execution_count": 7
        }
      ]
    },
    {
      "cell_type": "code",
      "source": [
        "y = SimpleRNN(units=units, activation='sigmoid', name='SinpleRNN_2',\n",
        "              return_sequences=True)(x)\n",
        "model =Model( inputs=[x], outputs=[y])\n",
        "SVG(model_to_dot(model, show_shapes=True, dpi=None)\n",
        ".create(prog='dot', format='svg'))\n"
      ],
      "metadata": {
        "colab": {
          "base_uri": "https://localhost:8080/",
          "height": 206
        },
        "id": "EQIMcivNbwqU",
        "outputId": "3f5e9760-0576-4c6a-83ac-b02a65632ad5"
      },
      "execution_count": 10,
      "outputs": [
        {
          "output_type": "execute_result",
          "data": {
            "text/plain": [
              "<IPython.core.display.SVG object>"
            ],
            "image/svg+xml": "<svg xmlns=\"http://www.w3.org/2000/svg\" xmlns:xlink=\"http://www.w3.org/1999/xlink\" width=\"315pt\" height=\"138pt\" viewBox=\"0.00 0.00 315.00 138.00\">\n<g id=\"graph0\" class=\"graph\" transform=\"scale(1 1) rotate(0) translate(4 134)\">\n<title>G</title>\n<polygon fill=\"white\" stroke=\"transparent\" points=\"-4,4 -4,-134 311,-134 311,4 -4,4\"/>\n<!-- dpi -->\n<g id=\"node1\" class=\"node\">\n<title>dpi</title>\n<ellipse fill=\"none\" stroke=\"black\" cx=\"27\" cy=\"-106.5\" rx=\"27\" ry=\"18\"/>\n<text text-anchor=\"middle\" x=\"27\" y=\"-102.8\" font-family=\"Times,serif\" font-size=\"14.00\">dpi</text>\n</g>\n<!-- 140060921165520 -->\n<g id=\"node2\" class=\"node\">\n<title>140060921165520</title>\n<polygon fill=\"none\" stroke=\"black\" points=\"72.5,-83.5 72.5,-129.5 303.5,-129.5 303.5,-83.5 72.5,-83.5\"/>\n<text text-anchor=\"middle\" x=\"111\" y=\"-114.3\" font-family=\"Times,serif\" font-size=\"14.00\">Input</text>\n<polyline fill=\"none\" stroke=\"black\" points=\"72.5,-106.5 149.5,-106.5 \"/>\n<text text-anchor=\"middle\" x=\"111\" y=\"-91.3\" font-family=\"Times,serif\" font-size=\"14.00\">InputLayer</text>\n<polyline fill=\"none\" stroke=\"black\" points=\"149.5,-83.5 149.5,-129.5 \"/>\n<text text-anchor=\"middle\" x=\"177\" y=\"-114.3\" font-family=\"Times,serif\" font-size=\"14.00\">input:</text>\n<polyline fill=\"none\" stroke=\"black\" points=\"149.5,-106.5 204.5,-106.5 \"/>\n<text text-anchor=\"middle\" x=\"177\" y=\"-91.3\" font-family=\"Times,serif\" font-size=\"14.00\">output:</text>\n<polyline fill=\"none\" stroke=\"black\" points=\"204.5,-83.5 204.5,-129.5 \"/>\n<text text-anchor=\"middle\" x=\"254\" y=\"-114.3\" font-family=\"Times,serif\" font-size=\"14.00\">[(None, 5, 15)]</text>\n<polyline fill=\"none\" stroke=\"black\" points=\"204.5,-106.5 303.5,-106.5 \"/>\n<text text-anchor=\"middle\" x=\"254\" y=\"-91.3\" font-family=\"Times,serif\" font-size=\"14.00\">[(None, 5, 15)]</text>\n</g>\n<!-- 140059263859632 -->\n<g id=\"node3\" class=\"node\">\n<title>140059263859632</title>\n<polygon fill=\"none\" stroke=\"black\" points=\"69,-0.5 69,-46.5 307,-46.5 307,-0.5 69,-0.5\"/>\n<text text-anchor=\"middle\" x=\"115.5\" y=\"-31.3\" font-family=\"Times,serif\" font-size=\"14.00\">SinpleRNN_2</text>\n<polyline fill=\"none\" stroke=\"black\" points=\"69,-23.5 162,-23.5 \"/>\n<text text-anchor=\"middle\" x=\"115.5\" y=\"-8.3\" font-family=\"Times,serif\" font-size=\"14.00\">SimpleRNN</text>\n<polyline fill=\"none\" stroke=\"black\" points=\"162,-0.5 162,-46.5 \"/>\n<text text-anchor=\"middle\" x=\"189.5\" y=\"-31.3\" font-family=\"Times,serif\" font-size=\"14.00\">input:</text>\n<polyline fill=\"none\" stroke=\"black\" points=\"162,-23.5 217,-23.5 \"/>\n<text text-anchor=\"middle\" x=\"189.5\" y=\"-8.3\" font-family=\"Times,serif\" font-size=\"14.00\">output:</text>\n<polyline fill=\"none\" stroke=\"black\" points=\"217,-0.5 217,-46.5 \"/>\n<text text-anchor=\"middle\" x=\"262\" y=\"-31.3\" font-family=\"Times,serif\" font-size=\"14.00\">(None, 5, 15)</text>\n<polyline fill=\"none\" stroke=\"black\" points=\"217,-23.5 307,-23.5 \"/>\n<text text-anchor=\"middle\" x=\"262\" y=\"-8.3\" font-family=\"Times,serif\" font-size=\"14.00\">(None, 5, 10)</text>\n</g>\n<!-- 140060921165520&#45;&gt;140059263859632 -->\n<g id=\"edge1\" class=\"edge\">\n<title>140060921165520-&gt;140059263859632</title>\n<path fill=\"none\" stroke=\"black\" d=\"M188,-83.37C188,-75.15 188,-65.66 188,-56.73\"/>\n<polygon fill=\"black\" stroke=\"black\" points=\"191.5,-56.61 188,-46.61 184.5,-56.61 191.5,-56.61\"/>\n</g>\n</g>\n</svg>"
          },
          "metadata": {},
          "execution_count": 10
        }
      ]
    },
    {
      "cell_type": "code",
      "source": [
        "y,state = SimpleRNN(units=units, activation='sigmoid', return_state=True, name='SinpleRNN_3')(x)\n",
        "model =Model( inputs=[x], outputs=[y])\n",
        "SVG(model_to_dot(model, show_shapes=True, dpi=None)\n",
        ".create(prog='dot', format='svg'))\n"
      ],
      "metadata": {
        "colab": {
          "base_uri": "https://localhost:8080/",
          "height": 206
        },
        "id": "3BcOu18adwx1",
        "outputId": "a032a98c-b48d-459a-c972-9e956b51c8e8"
      },
      "execution_count": 9,
      "outputs": [
        {
          "output_type": "execute_result",
          "data": {
            "text/plain": [
              "<IPython.core.display.SVG object>"
            ],
            "image/svg+xml": "<svg xmlns=\"http://www.w3.org/2000/svg\" xmlns:xlink=\"http://www.w3.org/1999/xlink\" width=\"346pt\" height=\"138pt\" viewBox=\"0.00 0.00 346.00 138.00\">\n<g id=\"graph0\" class=\"graph\" transform=\"scale(1 1) rotate(0) translate(4 134)\">\n<title>G</title>\n<polygon fill=\"white\" stroke=\"transparent\" points=\"-4,4 -4,-134 342,-134 342,4 -4,4\"/>\n<!-- dpi -->\n<g id=\"node1\" class=\"node\">\n<title>dpi</title>\n<ellipse fill=\"none\" stroke=\"black\" cx=\"27\" cy=\"-106.5\" rx=\"27\" ry=\"18\"/>\n<text text-anchor=\"middle\" x=\"27\" y=\"-102.8\" font-family=\"Times,serif\" font-size=\"14.00\">dpi</text>\n</g>\n<!-- 140060921165520 -->\n<g id=\"node2\" class=\"node\">\n<title>140060921165520</title>\n<polygon fill=\"none\" stroke=\"black\" points=\"72.5,-83.5 72.5,-129.5 303.5,-129.5 303.5,-83.5 72.5,-83.5\"/>\n<text text-anchor=\"middle\" x=\"111\" y=\"-114.3\" font-family=\"Times,serif\" font-size=\"14.00\">Input</text>\n<polyline fill=\"none\" stroke=\"black\" points=\"72.5,-106.5 149.5,-106.5 \"/>\n<text text-anchor=\"middle\" x=\"111\" y=\"-91.3\" font-family=\"Times,serif\" font-size=\"14.00\">InputLayer</text>\n<polyline fill=\"none\" stroke=\"black\" points=\"149.5,-83.5 149.5,-129.5 \"/>\n<text text-anchor=\"middle\" x=\"177\" y=\"-114.3\" font-family=\"Times,serif\" font-size=\"14.00\">input:</text>\n<polyline fill=\"none\" stroke=\"black\" points=\"149.5,-106.5 204.5,-106.5 \"/>\n<text text-anchor=\"middle\" x=\"177\" y=\"-91.3\" font-family=\"Times,serif\" font-size=\"14.00\">output:</text>\n<polyline fill=\"none\" stroke=\"black\" points=\"204.5,-83.5 204.5,-129.5 \"/>\n<text text-anchor=\"middle\" x=\"254\" y=\"-114.3\" font-family=\"Times,serif\" font-size=\"14.00\">[(None, 5, 15)]</text>\n<polyline fill=\"none\" stroke=\"black\" points=\"204.5,-106.5 303.5,-106.5 \"/>\n<text text-anchor=\"middle\" x=\"254\" y=\"-91.3\" font-family=\"Times,serif\" font-size=\"14.00\">[(None, 5, 15)]</text>\n</g>\n<!-- 140059264247264 -->\n<g id=\"node3\" class=\"node\">\n<title>140059264247264</title>\n<polygon fill=\"none\" stroke=\"black\" points=\"38,-0.5 38,-46.5 338,-46.5 338,-0.5 38,-0.5\"/>\n<text text-anchor=\"middle\" x=\"84.5\" y=\"-31.3\" font-family=\"Times,serif\" font-size=\"14.00\">SinpleRNN_3</text>\n<polyline fill=\"none\" stroke=\"black\" points=\"38,-23.5 131,-23.5 \"/>\n<text text-anchor=\"middle\" x=\"84.5\" y=\"-8.3\" font-family=\"Times,serif\" font-size=\"14.00\">SimpleRNN</text>\n<polyline fill=\"none\" stroke=\"black\" points=\"131,-0.5 131,-46.5 \"/>\n<text text-anchor=\"middle\" x=\"158.5\" y=\"-31.3\" font-family=\"Times,serif\" font-size=\"14.00\">input:</text>\n<polyline fill=\"none\" stroke=\"black\" points=\"131,-23.5 186,-23.5 \"/>\n<text text-anchor=\"middle\" x=\"158.5\" y=\"-8.3\" font-family=\"Times,serif\" font-size=\"14.00\">output:</text>\n<polyline fill=\"none\" stroke=\"black\" points=\"186,-0.5 186,-46.5 \"/>\n<text text-anchor=\"middle\" x=\"262\" y=\"-31.3\" font-family=\"Times,serif\" font-size=\"14.00\">(None, 5, 15)</text>\n<polyline fill=\"none\" stroke=\"black\" points=\"186,-23.5 338,-23.5 \"/>\n<text text-anchor=\"middle\" x=\"262\" y=\"-8.3\" font-family=\"Times,serif\" font-size=\"14.00\">[(None, 10), (None, 10)]</text>\n</g>\n<!-- 140060921165520&#45;&gt;140059264247264 -->\n<g id=\"edge1\" class=\"edge\">\n<title>140060921165520-&gt;140059264247264</title>\n<path fill=\"none\" stroke=\"black\" d=\"M188,-83.37C188,-75.15 188,-65.66 188,-56.73\"/>\n<polygon fill=\"black\" stroke=\"black\" points=\"191.5,-56.61 188,-46.61 184.5,-56.61 191.5,-56.61\"/>\n</g>\n</g>\n</svg>"
          },
          "metadata": {},
          "execution_count": 9
        }
      ]
    },
    {
      "cell_type": "code",
      "source": [],
      "metadata": {
        "id": "Ylybw2P3eWNd"
      },
      "execution_count": null,
      "outputs": []
    }
  ]
}