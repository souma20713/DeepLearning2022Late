{
  "nbformat": 4,
  "nbformat_minor": 0,
  "metadata": {
    "colab": {
      "provenance": [],
      "authorship_tag": "ABX9TyO8MbcGVdQaHMcMDE64LxmW",
      "include_colab_link": true
    },
    "kernelspec": {
      "name": "python3",
      "display_name": "Python 3"
    },
    "language_info": {
      "name": "python"
    }
  },
  "cells": [
    {
      "cell_type": "markdown",
      "metadata": {
        "id": "view-in-github",
        "colab_type": "text"
      },
      "source": [
        "<a href=\"https://colab.research.google.com/github/souma20713/DeepLearning2022Late/blob/main/CNN%2BPlots_pooling2022.ipynb\" target=\"_parent\"><img src=\"https://colab.research.google.com/assets/colab-badge.svg\" alt=\"Open In Colab\"/></a>"
      ]
    },
    {
      "cell_type": "code",
      "execution_count": 1,
      "metadata": {
        "id": "NTkz3f6OQdZs"
      },
      "outputs": [],
      "source": [
        "from keras.models import Sequential, Model # 学習モデル\n",
        "from keras.layers import Conv2D # 畳み込み層のクラス\n",
        "from keras.layers import MaxPooling2D # プーリング層のクラス"
      ]
    },
    {
      "cell_type": "code",
      "source": [
        "from IPython.display import SVG\n",
        "from keras.utils.vis_utils import model_to_dot"
      ],
      "metadata": {
        "id": "KCWofeCkQlNp"
      },
      "execution_count": 2,
      "outputs": []
    },
    {
      "cell_type": "code",
      "source": [
        "model = Sequential()"
      ],
      "metadata": {
        "id": "BsWBsU-6Qok9"
      },
      "execution_count": 3,
      "outputs": []
    },
    {
      "cell_type": "code",
      "source": [
        "model.add(Conv2D(\n",
        "    filters=3, # フィルター３パターン\n",
        "    kernel_size=(3, 3), # 受容野（カーネル）は縦3, 横3\n",
        "    input_shape=(6, 6, 1), # 入力画像の形\n",
        "    padding='same', # ゼロパディングする\n",
        "    # strides=2, # ストライド（カーネルの移動量）\n",
        "    name='Conv2D_1',\n",
        "    ))"
      ],
      "metadata": {
        "id": "r6Coxs58Qr9H"
      },
      "execution_count": 4,
      "outputs": []
    },
    {
      "cell_type": "code",
      "source": [
        "SVG(model_to_dot(model, show_shapes=True, dpi=None).create(prog='dot', format='svg'))"
      ],
      "metadata": {
        "colab": {
          "base_uri": "https://localhost:8080/",
          "height": 206
        },
        "id": "-OrOBsw4QsUF",
        "outputId": "9d4b8f20-16ae-4694-ce9f-524cacdb9ba6"
      },
      "execution_count": 5,
      "outputs": [
        {
          "output_type": "execute_result",
          "data": {
            "text/plain": [
              "<IPython.core.display.SVG object>"
            ],
            "image/svg+xml": "<svg xmlns=\"http://www.w3.org/2000/svg\" xmlns:xlink=\"http://www.w3.org/1999/xlink\" width=\"352pt\" height=\"138pt\" viewBox=\"0.00 0.00 352.00 138.00\">\n<g id=\"graph0\" class=\"graph\" transform=\"scale(1 1) rotate(0) translate(4 134)\">\n<title>G</title>\n<polygon fill=\"white\" stroke=\"transparent\" points=\"-4,4 -4,-134 348,-134 348,4 -4,4\"/>\n<!-- dpi -->\n<g id=\"node1\" class=\"node\">\n<title>dpi</title>\n<ellipse fill=\"none\" stroke=\"black\" cx=\"27\" cy=\"-106.5\" rx=\"27\" ry=\"18\"/>\n<text text-anchor=\"middle\" x=\"27\" y=\"-102.8\" font-family=\"Times,serif\" font-size=\"14.00\">dpi</text>\n</g>\n<!-- 140059690473456 -->\n<g id=\"node2\" class=\"node\">\n<title>140059690473456</title>\n<polygon fill=\"none\" stroke=\"black\" points=\"72,-83.5 72,-129.5 344,-129.5 344,-83.5 72,-83.5\"/>\n<text text-anchor=\"middle\" x=\"127\" y=\"-114.3\" font-family=\"Times,serif\" font-size=\"14.00\">Conv2D_1_input</text>\n<polyline fill=\"none\" stroke=\"black\" points=\"72,-106.5 182,-106.5 \"/>\n<text text-anchor=\"middle\" x=\"127\" y=\"-91.3\" font-family=\"Times,serif\" font-size=\"14.00\">InputLayer</text>\n<polyline fill=\"none\" stroke=\"black\" points=\"182,-83.5 182,-129.5 \"/>\n<text text-anchor=\"middle\" x=\"209.5\" y=\"-114.3\" font-family=\"Times,serif\" font-size=\"14.00\">input:</text>\n<polyline fill=\"none\" stroke=\"black\" points=\"182,-106.5 237,-106.5 \"/>\n<text text-anchor=\"middle\" x=\"209.5\" y=\"-91.3\" font-family=\"Times,serif\" font-size=\"14.00\">output:</text>\n<polyline fill=\"none\" stroke=\"black\" points=\"237,-83.5 237,-129.5 \"/>\n<text text-anchor=\"middle\" x=\"290.5\" y=\"-114.3\" font-family=\"Times,serif\" font-size=\"14.00\">[(None, 6, 6, 1)]</text>\n<polyline fill=\"none\" stroke=\"black\" points=\"237,-106.5 344,-106.5 \"/>\n<text text-anchor=\"middle\" x=\"290.5\" y=\"-91.3\" font-family=\"Times,serif\" font-size=\"14.00\">[(None, 6, 6, 1)]</text>\n</g>\n<!-- 140058047306048 -->\n<g id=\"node3\" class=\"node\">\n<title>140058047306048</title>\n<polygon fill=\"none\" stroke=\"black\" points=\"93.5,-0.5 93.5,-46.5 322.5,-46.5 322.5,-0.5 93.5,-0.5\"/>\n<text text-anchor=\"middle\" x=\"131.5\" y=\"-31.3\" font-family=\"Times,serif\" font-size=\"14.00\">Conv2D_1</text>\n<polyline fill=\"none\" stroke=\"black\" points=\"93.5,-23.5 169.5,-23.5 \"/>\n<text text-anchor=\"middle\" x=\"131.5\" y=\"-8.3\" font-family=\"Times,serif\" font-size=\"14.00\">Conv2D</text>\n<polyline fill=\"none\" stroke=\"black\" points=\"169.5,-0.5 169.5,-46.5 \"/>\n<text text-anchor=\"middle\" x=\"197\" y=\"-31.3\" font-family=\"Times,serif\" font-size=\"14.00\">input:</text>\n<polyline fill=\"none\" stroke=\"black\" points=\"169.5,-23.5 224.5,-23.5 \"/>\n<text text-anchor=\"middle\" x=\"197\" y=\"-8.3\" font-family=\"Times,serif\" font-size=\"14.00\">output:</text>\n<polyline fill=\"none\" stroke=\"black\" points=\"224.5,-0.5 224.5,-46.5 \"/>\n<text text-anchor=\"middle\" x=\"273.5\" y=\"-31.3\" font-family=\"Times,serif\" font-size=\"14.00\">(None, 6, 6, 1)</text>\n<polyline fill=\"none\" stroke=\"black\" points=\"224.5,-23.5 322.5,-23.5 \"/>\n<text text-anchor=\"middle\" x=\"273.5\" y=\"-8.3\" font-family=\"Times,serif\" font-size=\"14.00\">(None, 6, 6, 3)</text>\n</g>\n<!-- 140059690473456&#45;&gt;140058047306048 -->\n<g id=\"edge1\" class=\"edge\">\n<title>140059690473456-&gt;140058047306048</title>\n<path fill=\"none\" stroke=\"black\" d=\"M208,-83.37C208,-75.15 208,-65.66 208,-56.73\"/>\n<polygon fill=\"black\" stroke=\"black\" points=\"211.5,-56.61 208,-46.61 204.5,-56.61 211.5,-56.61\"/>\n</g>\n</g>\n</svg>"
          },
          "metadata": {},
          "execution_count": 5
        }
      ]
    },
    {
      "cell_type": "code",
      "source": [
        "model.add(MaxPooling2D(pool_size=(2, 2), name='MaxPooling2D_1'))"
      ],
      "metadata": {
        "id": "ktU1vud0Quq8"
      },
      "execution_count": 6,
      "outputs": []
    },
    {
      "cell_type": "code",
      "source": [
        "SVG(model_to_dot(model, show_shapes=True, dpi=None).create(prog='dot', format='svg'))"
      ],
      "metadata": {
        "colab": {
          "base_uri": "https://localhost:8080/",
          "height": 316
        },
        "id": "Ssm2blM3Qw4g",
        "outputId": "6fa7adb3-3c4a-43b7-b3ec-3ad52851690e"
      },
      "execution_count": 7,
      "outputs": [
        {
          "output_type": "execute_result",
          "data": {
            "text/plain": [
              "<IPython.core.display.SVG object>"
            ],
            "image/svg+xml": "<svg xmlns=\"http://www.w3.org/2000/svg\" xmlns:xlink=\"http://www.w3.org/1999/xlink\" width=\"352pt\" height=\"221pt\" viewBox=\"0.00 0.00 352.00 221.00\">\n<g id=\"graph0\" class=\"graph\" transform=\"scale(1 1) rotate(0) translate(4 217)\">\n<title>G</title>\n<polygon fill=\"white\" stroke=\"transparent\" points=\"-4,4 -4,-217 348,-217 348,4 -4,4\"/>\n<!-- dpi -->\n<g id=\"node1\" class=\"node\">\n<title>dpi</title>\n<ellipse fill=\"none\" stroke=\"black\" cx=\"27\" cy=\"-189.5\" rx=\"27\" ry=\"18\"/>\n<text text-anchor=\"middle\" x=\"27\" y=\"-185.8\" font-family=\"Times,serif\" font-size=\"14.00\">dpi</text>\n</g>\n<!-- 140059690473456 -->\n<g id=\"node2\" class=\"node\">\n<title>140059690473456</title>\n<polygon fill=\"none\" stroke=\"black\" points=\"72,-166.5 72,-212.5 344,-212.5 344,-166.5 72,-166.5\"/>\n<text text-anchor=\"middle\" x=\"127\" y=\"-197.3\" font-family=\"Times,serif\" font-size=\"14.00\">Conv2D_1_input</text>\n<polyline fill=\"none\" stroke=\"black\" points=\"72,-189.5 182,-189.5 \"/>\n<text text-anchor=\"middle\" x=\"127\" y=\"-174.3\" font-family=\"Times,serif\" font-size=\"14.00\">InputLayer</text>\n<polyline fill=\"none\" stroke=\"black\" points=\"182,-166.5 182,-212.5 \"/>\n<text text-anchor=\"middle\" x=\"209.5\" y=\"-197.3\" font-family=\"Times,serif\" font-size=\"14.00\">input:</text>\n<polyline fill=\"none\" stroke=\"black\" points=\"182,-189.5 237,-189.5 \"/>\n<text text-anchor=\"middle\" x=\"209.5\" y=\"-174.3\" font-family=\"Times,serif\" font-size=\"14.00\">output:</text>\n<polyline fill=\"none\" stroke=\"black\" points=\"237,-166.5 237,-212.5 \"/>\n<text text-anchor=\"middle\" x=\"290.5\" y=\"-197.3\" font-family=\"Times,serif\" font-size=\"14.00\">[(None, 6, 6, 1)]</text>\n<polyline fill=\"none\" stroke=\"black\" points=\"237,-189.5 344,-189.5 \"/>\n<text text-anchor=\"middle\" x=\"290.5\" y=\"-174.3\" font-family=\"Times,serif\" font-size=\"14.00\">[(None, 6, 6, 1)]</text>\n</g>\n<!-- 140058047306048 -->\n<g id=\"node3\" class=\"node\">\n<title>140058047306048</title>\n<polygon fill=\"none\" stroke=\"black\" points=\"93.5,-83.5 93.5,-129.5 322.5,-129.5 322.5,-83.5 93.5,-83.5\"/>\n<text text-anchor=\"middle\" x=\"131.5\" y=\"-114.3\" font-family=\"Times,serif\" font-size=\"14.00\">Conv2D_1</text>\n<polyline fill=\"none\" stroke=\"black\" points=\"93.5,-106.5 169.5,-106.5 \"/>\n<text text-anchor=\"middle\" x=\"131.5\" y=\"-91.3\" font-family=\"Times,serif\" font-size=\"14.00\">Conv2D</text>\n<polyline fill=\"none\" stroke=\"black\" points=\"169.5,-83.5 169.5,-129.5 \"/>\n<text text-anchor=\"middle\" x=\"197\" y=\"-114.3\" font-family=\"Times,serif\" font-size=\"14.00\">input:</text>\n<polyline fill=\"none\" stroke=\"black\" points=\"169.5,-106.5 224.5,-106.5 \"/>\n<text text-anchor=\"middle\" x=\"197\" y=\"-91.3\" font-family=\"Times,serif\" font-size=\"14.00\">output:</text>\n<polyline fill=\"none\" stroke=\"black\" points=\"224.5,-83.5 224.5,-129.5 \"/>\n<text text-anchor=\"middle\" x=\"273.5\" y=\"-114.3\" font-family=\"Times,serif\" font-size=\"14.00\">(None, 6, 6, 1)</text>\n<polyline fill=\"none\" stroke=\"black\" points=\"224.5,-106.5 322.5,-106.5 \"/>\n<text text-anchor=\"middle\" x=\"273.5\" y=\"-91.3\" font-family=\"Times,serif\" font-size=\"14.00\">(None, 6, 6, 3)</text>\n</g>\n<!-- 140059690473456&#45;&gt;140058047306048 -->\n<g id=\"edge1\" class=\"edge\">\n<title>140059690473456-&gt;140058047306048</title>\n<path fill=\"none\" stroke=\"black\" d=\"M208,-166.37C208,-158.15 208,-148.66 208,-139.73\"/>\n<polygon fill=\"black\" stroke=\"black\" points=\"211.5,-139.61 208,-129.61 204.5,-139.61 211.5,-139.61\"/>\n</g>\n<!-- 140057973244160 -->\n<g id=\"node4\" class=\"node\">\n<title>140057973244160</title>\n<polygon fill=\"none\" stroke=\"black\" points=\"74.5,-0.5 74.5,-46.5 341.5,-46.5 341.5,-0.5 74.5,-0.5\"/>\n<text text-anchor=\"middle\" x=\"131.5\" y=\"-31.3\" font-family=\"Times,serif\" font-size=\"14.00\">MaxPooling2D_1</text>\n<polyline fill=\"none\" stroke=\"black\" points=\"74.5,-23.5 188.5,-23.5 \"/>\n<text text-anchor=\"middle\" x=\"131.5\" y=\"-8.3\" font-family=\"Times,serif\" font-size=\"14.00\">MaxPooling2D</text>\n<polyline fill=\"none\" stroke=\"black\" points=\"188.5,-0.5 188.5,-46.5 \"/>\n<text text-anchor=\"middle\" x=\"216\" y=\"-31.3\" font-family=\"Times,serif\" font-size=\"14.00\">input:</text>\n<polyline fill=\"none\" stroke=\"black\" points=\"188.5,-23.5 243.5,-23.5 \"/>\n<text text-anchor=\"middle\" x=\"216\" y=\"-8.3\" font-family=\"Times,serif\" font-size=\"14.00\">output:</text>\n<polyline fill=\"none\" stroke=\"black\" points=\"243.5,-0.5 243.5,-46.5 \"/>\n<text text-anchor=\"middle\" x=\"292.5\" y=\"-31.3\" font-family=\"Times,serif\" font-size=\"14.00\">(None, 6, 6, 3)</text>\n<polyline fill=\"none\" stroke=\"black\" points=\"243.5,-23.5 341.5,-23.5 \"/>\n<text text-anchor=\"middle\" x=\"292.5\" y=\"-8.3\" font-family=\"Times,serif\" font-size=\"14.00\">(None, 3, 3, 3)</text>\n</g>\n<!-- 140058047306048&#45;&gt;140057973244160 -->\n<g id=\"edge2\" class=\"edge\">\n<title>140058047306048-&gt;140057973244160</title>\n<path fill=\"none\" stroke=\"black\" d=\"M208,-83.37C208,-75.15 208,-65.66 208,-56.73\"/>\n<polygon fill=\"black\" stroke=\"black\" points=\"211.5,-56.61 208,-46.61 204.5,-56.61 211.5,-56.61\"/>\n</g>\n</g>\n</svg>"
          },
          "metadata": {},
          "execution_count": 7
        }
      ]
    },
    {
      "cell_type": "code",
      "source": [],
      "metadata": {
        "id": "yjatD5yMQy5g"
      },
      "execution_count": null,
      "outputs": []
    }
  ]
}