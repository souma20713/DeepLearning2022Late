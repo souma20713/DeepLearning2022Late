{
  "nbformat": 4,
  "nbformat_minor": 0,
  "metadata": {
    "colab": {
      "provenance": [],
      "authorship_tag": "ABX9TyPtjqqJUzkBkqCINRCIMZub",
      "include_colab_link": true
    },
    "kernelspec": {
      "name": "python3",
      "display_name": "Python 3"
    },
    "language_info": {
      "name": "python"
    }
  },
  "cells": [
    {
      "cell_type": "markdown",
      "metadata": {
        "id": "view-in-github",
        "colab_type": "text"
      },
      "source": [
        "<a href=\"https://colab.research.google.com/github/souma20713/DeepLearning2022Late/blob/main/CNN%2BPlots_flattenanddense2022.ipynb\" target=\"_parent\"><img src=\"https://colab.research.google.com/assets/colab-badge.svg\" alt=\"Open In Colab\"/></a>"
      ]
    },
    {
      "cell_type": "markdown",
      "source": [
        "# CNN層（畳み込み層）を追加した学習モデルに全結合層と分類する出力層を追加する\n",
        "### 学習モデルのライブラリをimport"
      ],
      "metadata": {
        "id": "4yJHPrHcPc8D"
      }
    },
    {
      "cell_type": "code",
      "execution_count": 1,
      "metadata": {
        "id": "Ym8lOY6VMC0z"
      },
      "outputs": [],
      "source": [
        "from keras.models import Sequential, Model # 学習モデルのクラス\n",
        "from keras.layers import Conv2D # 畳み込み層のクラス\n",
        "from keras.layers import Flatten # 全結合層用のクラス\n",
        "from keras.layers import Dense # （分類出力用の）普通のニューロン層"
      ]
    },
    {
      "cell_type": "code",
      "source": [
        "from IPython.display import SVG\n",
        "from keras.utils.vis_utils import model_to_dot"
      ],
      "metadata": {
        "id": "9Hl5Fh6LPiNL"
      },
      "execution_count": 2,
      "outputs": []
    },
    {
      "cell_type": "code",
      "source": [
        "model = Sequential()"
      ],
      "metadata": {
        "id": "219hqtEAPj30"
      },
      "execution_count": 3,
      "outputs": []
    },
    {
      "cell_type": "code",
      "source": [
        "# 畳み込み層追加\n",
        "model.add(Conv2D(\n",
        "    filters=3, # ３パターンのフィルター\n",
        "    kernel_size=(3, 3), # 受容野縦3, 横3\n",
        "    input_shape=(6, 6, 1), # 入力画像１個分の形縦6,横6\n",
        "    padding='same', # ゼロパディング\n",
        "    name='Conv2D'\n",
        "    ))"
      ],
      "metadata": {
        "id": "6EGxnn52Poma"
      },
      "execution_count": 4,
      "outputs": []
    },
    {
      "cell_type": "code",
      "source": [
        "# 全結合層を追加\n",
        "model.add(Flatten(\n",
        "    name='Flatten_1'\n",
        "    ))"
      ],
      "metadata": {
        "id": "lZ3DNNY2PpYj"
      },
      "execution_count": 5,
      "outputs": []
    },
    {
      "cell_type": "code",
      "source": [
        "# softmax分類層を追加\n",
        "model.add(Dense(\n",
        "    units = 10, # 10個のニューロンに分類\n",
        "    activation = 'softmax', # 活性化関数softmaxで分類\n",
        "    name = 'Dense_1'\n",
        "    ))"
      ],
      "metadata": {
        "id": "-DjR7fPpProc"
      },
      "execution_count": 6,
      "outputs": []
    },
    {
      "cell_type": "code",
      "source": [
        "SVG(model_to_dot(model, show_shapes=True, dpi=None).create(prog='dot', format='svg'))"
      ],
      "metadata": {
        "colab": {
          "base_uri": "https://localhost:8080/",
          "height": 427
        },
        "id": "CH5UVwyXPtwD",
        "outputId": "8cd99404-eab9-45c6-dbc8-e66498ebe965"
      },
      "execution_count": 7,
      "outputs": [
        {
          "output_type": "execute_result",
          "data": {
            "text/plain": [
              "<IPython.core.display.SVG object>"
            ],
            "image/svg+xml": "<svg xmlns=\"http://www.w3.org/2000/svg\" xmlns:xlink=\"http://www.w3.org/1999/xlink\" width=\"340pt\" height=\"304pt\" viewBox=\"0.00 0.00 339.50 304.00\">\n<g id=\"graph0\" class=\"graph\" transform=\"scale(1 1) rotate(0) translate(4 300)\">\n<title>G</title>\n<polygon fill=\"white\" stroke=\"transparent\" points=\"-4,4 -4,-300 335.5,-300 335.5,4 -4,4\"/>\n<!-- dpi -->\n<g id=\"node1\" class=\"node\">\n<title>dpi</title>\n<ellipse fill=\"none\" stroke=\"black\" cx=\"27\" cy=\"-272.5\" rx=\"27\" ry=\"18\"/>\n<text text-anchor=\"middle\" x=\"27\" y=\"-268.8\" font-family=\"Times,serif\" font-size=\"14.00\">dpi</text>\n</g>\n<!-- 140505933109472 -->\n<g id=\"node2\" class=\"node\">\n<title>140505933109472</title>\n<polygon fill=\"none\" stroke=\"black\" points=\"72.5,-249.5 72.5,-295.5 331.5,-295.5 331.5,-249.5 72.5,-249.5\"/>\n<text text-anchor=\"middle\" x=\"121\" y=\"-280.3\" font-family=\"Times,serif\" font-size=\"14.00\">Conv2D_input</text>\n<polyline fill=\"none\" stroke=\"black\" points=\"72.5,-272.5 169.5,-272.5 \"/>\n<text text-anchor=\"middle\" x=\"121\" y=\"-257.3\" font-family=\"Times,serif\" font-size=\"14.00\">InputLayer</text>\n<polyline fill=\"none\" stroke=\"black\" points=\"169.5,-249.5 169.5,-295.5 \"/>\n<text text-anchor=\"middle\" x=\"197\" y=\"-280.3\" font-family=\"Times,serif\" font-size=\"14.00\">input:</text>\n<polyline fill=\"none\" stroke=\"black\" points=\"169.5,-272.5 224.5,-272.5 \"/>\n<text text-anchor=\"middle\" x=\"197\" y=\"-257.3\" font-family=\"Times,serif\" font-size=\"14.00\">output:</text>\n<polyline fill=\"none\" stroke=\"black\" points=\"224.5,-249.5 224.5,-295.5 \"/>\n<text text-anchor=\"middle\" x=\"278\" y=\"-280.3\" font-family=\"Times,serif\" font-size=\"14.00\">[(None, 6, 6, 1)]</text>\n<polyline fill=\"none\" stroke=\"black\" points=\"224.5,-272.5 331.5,-272.5 \"/>\n<text text-anchor=\"middle\" x=\"278\" y=\"-257.3\" font-family=\"Times,serif\" font-size=\"14.00\">[(None, 6, 6, 1)]</text>\n</g>\n<!-- 140504349506384 -->\n<g id=\"node3\" class=\"node\">\n<title>140504349506384</title>\n<polygon fill=\"none\" stroke=\"black\" points=\"94.5,-166.5 94.5,-212.5 309.5,-212.5 309.5,-166.5 94.5,-166.5\"/>\n<text text-anchor=\"middle\" x=\"125.5\" y=\"-197.3\" font-family=\"Times,serif\" font-size=\"14.00\">Conv2D</text>\n<polyline fill=\"none\" stroke=\"black\" points=\"94.5,-189.5 156.5,-189.5 \"/>\n<text text-anchor=\"middle\" x=\"125.5\" y=\"-174.3\" font-family=\"Times,serif\" font-size=\"14.00\">Conv2D</text>\n<polyline fill=\"none\" stroke=\"black\" points=\"156.5,-166.5 156.5,-212.5 \"/>\n<text text-anchor=\"middle\" x=\"184\" y=\"-197.3\" font-family=\"Times,serif\" font-size=\"14.00\">input:</text>\n<polyline fill=\"none\" stroke=\"black\" points=\"156.5,-189.5 211.5,-189.5 \"/>\n<text text-anchor=\"middle\" x=\"184\" y=\"-174.3\" font-family=\"Times,serif\" font-size=\"14.00\">output:</text>\n<polyline fill=\"none\" stroke=\"black\" points=\"211.5,-166.5 211.5,-212.5 \"/>\n<text text-anchor=\"middle\" x=\"260.5\" y=\"-197.3\" font-family=\"Times,serif\" font-size=\"14.00\">(None, 6, 6, 1)</text>\n<polyline fill=\"none\" stroke=\"black\" points=\"211.5,-189.5 309.5,-189.5 \"/>\n<text text-anchor=\"middle\" x=\"260.5\" y=\"-174.3\" font-family=\"Times,serif\" font-size=\"14.00\">(None, 6, 6, 3)</text>\n</g>\n<!-- 140505933109472&#45;&gt;140504349506384 -->\n<g id=\"edge1\" class=\"edge\">\n<title>140505933109472-&gt;140504349506384</title>\n<path fill=\"none\" stroke=\"black\" d=\"M202,-249.37C202,-241.15 202,-231.66 202,-222.73\"/>\n<polygon fill=\"black\" stroke=\"black\" points=\"205.5,-222.61 202,-212.61 198.5,-222.61 205.5,-222.61\"/>\n</g>\n<!-- 140504276213520 -->\n<g id=\"node4\" class=\"node\">\n<title>140504276213520</title>\n<polygon fill=\"none\" stroke=\"black\" points=\"91.5,-83.5 91.5,-129.5 312.5,-129.5 312.5,-83.5 91.5,-83.5\"/>\n<text text-anchor=\"middle\" x=\"125.5\" y=\"-114.3\" font-family=\"Times,serif\" font-size=\"14.00\">Flatten_1</text>\n<polyline fill=\"none\" stroke=\"black\" points=\"91.5,-106.5 159.5,-106.5 \"/>\n<text text-anchor=\"middle\" x=\"125.5\" y=\"-91.3\" font-family=\"Times,serif\" font-size=\"14.00\">Flatten</text>\n<polyline fill=\"none\" stroke=\"black\" points=\"159.5,-83.5 159.5,-129.5 \"/>\n<text text-anchor=\"middle\" x=\"187\" y=\"-114.3\" font-family=\"Times,serif\" font-size=\"14.00\">input:</text>\n<polyline fill=\"none\" stroke=\"black\" points=\"159.5,-106.5 214.5,-106.5 \"/>\n<text text-anchor=\"middle\" x=\"187\" y=\"-91.3\" font-family=\"Times,serif\" font-size=\"14.00\">output:</text>\n<polyline fill=\"none\" stroke=\"black\" points=\"214.5,-83.5 214.5,-129.5 \"/>\n<text text-anchor=\"middle\" x=\"263.5\" y=\"-114.3\" font-family=\"Times,serif\" font-size=\"14.00\">(None, 6, 6, 3)</text>\n<polyline fill=\"none\" stroke=\"black\" points=\"214.5,-106.5 312.5,-106.5 \"/>\n<text text-anchor=\"middle\" x=\"263.5\" y=\"-91.3\" font-family=\"Times,serif\" font-size=\"14.00\">(None, 108)</text>\n</g>\n<!-- 140504349506384&#45;&gt;140504276213520 -->\n<g id=\"edge2\" class=\"edge\">\n<title>140504349506384-&gt;140504276213520</title>\n<path fill=\"none\" stroke=\"black\" d=\"M202,-166.37C202,-158.15 202,-148.66 202,-139.73\"/>\n<polygon fill=\"black\" stroke=\"black\" points=\"205.5,-139.61 202,-129.61 198.5,-139.61 205.5,-139.61\"/>\n</g>\n<!-- 140505933109616 -->\n<g id=\"node5\" class=\"node\">\n<title>140505933109616</title>\n<polygon fill=\"none\" stroke=\"black\" points=\"101,-0.5 101,-46.5 303,-46.5 303,-0.5 101,-0.5\"/>\n<text text-anchor=\"middle\" x=\"133\" y=\"-31.3\" font-family=\"Times,serif\" font-size=\"14.00\">Dense_1</text>\n<polyline fill=\"none\" stroke=\"black\" points=\"101,-23.5 165,-23.5 \"/>\n<text text-anchor=\"middle\" x=\"133\" y=\"-8.3\" font-family=\"Times,serif\" font-size=\"14.00\">Dense</text>\n<polyline fill=\"none\" stroke=\"black\" points=\"165,-0.5 165,-46.5 \"/>\n<text text-anchor=\"middle\" x=\"192.5\" y=\"-31.3\" font-family=\"Times,serif\" font-size=\"14.00\">input:</text>\n<polyline fill=\"none\" stroke=\"black\" points=\"165,-23.5 220,-23.5 \"/>\n<text text-anchor=\"middle\" x=\"192.5\" y=\"-8.3\" font-family=\"Times,serif\" font-size=\"14.00\">output:</text>\n<polyline fill=\"none\" stroke=\"black\" points=\"220,-0.5 220,-46.5 \"/>\n<text text-anchor=\"middle\" x=\"261.5\" y=\"-31.3\" font-family=\"Times,serif\" font-size=\"14.00\">(None, 108)</text>\n<polyline fill=\"none\" stroke=\"black\" points=\"220,-23.5 303,-23.5 \"/>\n<text text-anchor=\"middle\" x=\"261.5\" y=\"-8.3\" font-family=\"Times,serif\" font-size=\"14.00\">(None, 10)</text>\n</g>\n<!-- 140504276213520&#45;&gt;140505933109616 -->\n<g id=\"edge3\" class=\"edge\">\n<title>140504276213520-&gt;140505933109616</title>\n<path fill=\"none\" stroke=\"black\" d=\"M202,-83.37C202,-75.15 202,-65.66 202,-56.73\"/>\n<polygon fill=\"black\" stroke=\"black\" points=\"205.5,-56.61 202,-46.61 198.5,-56.61 205.5,-56.61\"/>\n</g>\n</g>\n</svg>"
          },
          "metadata": {},
          "execution_count": 7
        }
      ]
    },
    {
      "cell_type": "code",
      "source": [],
      "metadata": {
        "id": "Hk4-KbAVPvmK"
      },
      "execution_count": null,
      "outputs": []
    }
  ]
}