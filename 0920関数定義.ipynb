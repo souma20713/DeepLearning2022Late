{
  "nbformat": 4,
  "nbformat_minor": 0,
  "metadata": {
    "colab": {
      "provenance": [],
      "authorship_tag": "ABX9TyPEfKIBjyXTUOhPLKWzILkc",
      "include_colab_link": true
    },
    "kernelspec": {
      "name": "python3",
      "display_name": "Python 3"
    },
    "language_info": {
      "name": "python"
    }
  },
  "cells": [
    {
      "cell_type": "markdown",
      "metadata": {
        "id": "view-in-github",
        "colab_type": "text"
      },
      "source": [
        "<a href=\"https://colab.research.google.com/github/souma20713/DeepLearning2022Late/blob/main/0920%E9%96%A2%E6%95%B0%E5%AE%9A%E7%BE%A9.ipynb\" target=\"_parent\"><img src=\"https://colab.research.google.com/assets/colab-badge.svg\" alt=\"Open In Colab\"/></a>"
      ]
    },
    {
      "cell_type": "markdown",
      "source": [
        "#python3で関数を定義する\n",
        "関数定義"
      ],
      "metadata": {
        "id": "1GOK7JsAbTHi"
      }
    },
    {
      "cell_type": "code",
      "execution_count": 3,
      "metadata": {
        "colab": {
          "base_uri": "https://localhost:8080/"
        },
        "id": "kJCBcUicbDwN",
        "outputId": "253738d1-17d2-45df-c8e7-b7f9fb710c07"
      },
      "outputs": [
        {
          "output_type": "stream",
          "name": "stdout",
          "text": [
            "test message!\n"
          ]
        }
      ],
      "source": [
        "#hello関数を定義します\n",
        "#\"hello,kannsuu!\"と画面に表示する関数\n",
        "def hello( ):\n",
        "  print(\"hello, kansuu!\")#インデントされている\n",
        "  #インデントされている命令文などは関数の範囲の中\n",
        "print(\"test message!\")"
      ]
    },
    {
      "cell_type": "markdown",
      "source": [
        "# 関数を実行する"
      ],
      "metadata": {
        "id": "hjyGAIdDeMHc"
      }
    },
    {
      "cell_type": "code",
      "source": [
        "hello()\n",
        "hello()"
      ],
      "metadata": {
        "colab": {
          "base_uri": "https://localhost:8080/"
        },
        "id": "7esdb27-eKbc",
        "outputId": "7e082a58-3041-41ea-9730-252a907ad929"
      },
      "execution_count": 4,
      "outputs": [
        {
          "output_type": "stream",
          "name": "stdout",
          "text": [
            "hello, kansuu!\n",
            "hello, kansuu!\n"
          ]
        }
      ]
    },
    {
      "cell_type": "markdown",
      "source": [
        "## 引数つきの関数を定義する"
      ],
      "metadata": {
        "id": "NFEEAcUYfEnc"
      }
    },
    {
      "cell_type": "code",
      "source": [
        "#引数付きの関数\n",
        "def hello(who):\n",
        "  print(\"hello,\" + who + \"!\")\n",
        "#ここが関数の終わり\n",
        "\n",
        "hello(\"python!\")"
      ],
      "metadata": {
        "colab": {
          "base_uri": "https://localhost:8080/"
        },
        "id": "5YQtNu6jeYs9",
        "outputId": "1475f1bc-680b-49ab-91a1-f2f5f93bec10"
      },
      "execution_count": 7,
      "outputs": [
        {
          "output_type": "stream",
          "name": "stdout",
          "text": [
            "hello,python!!\n"
          ]
        }
      ]
    },
    {
      "cell_type": "markdown",
      "source": [
        "### 複数の引数付きの関数を定義"
      ],
      "metadata": {
        "id": "ZRfe2XMogeGv"
      }
    },
    {
      "cell_type": "code",
      "source": [
        "def hello(who,aisatsu):\n",
        "  print(\"hello,\"+ who + \"さん\"+ aisatsu)\n",
        "\n",
        "hello(\"田中\",\"おはよう\")\n",
        "hello(\"鈴木\",\"こんにちは\")"
      ],
      "metadata": {
        "colab": {
          "base_uri": "https://localhost:8080/"
        },
        "id": "RcIoAkYkfmHv",
        "outputId": "3bfa3b6d-735a-4b91-a571-32bd62f18b1f"
      },
      "execution_count": 9,
      "outputs": [
        {
          "output_type": "stream",
          "name": "stdout",
          "text": [
            "hello,田中さんおはよう\n",
            "hello,鈴木さんこんにちは\n"
          ]
        }
      ]
    },
    {
      "cell_type": "markdown",
      "source": [
        "# 関数の戻り値を定義する\n",
        "戻り値一つの関数を定義する"
      ],
      "metadata": {
        "id": "TN0PSLXkiBBf"
      }
    },
    {
      "cell_type": "code",
      "source": [
        "def helloBack(who,asisatu):\n",
        "  return who + \"さん, \" + asisatu\n",
        "#関数終わり\n",
        "\n",
        "#戻り値を変更x代入して表示\n",
        "x= helloBack(\"佐藤\", \"こんばんわ\")\n",
        "print(x)"
      ],
      "metadata": {
        "colab": {
          "base_uri": "https://localhost:8080/"
        },
        "id": "j5FE_fM0hX2L",
        "outputId": "50b79d42-1fc8-4e75-e808-b9fd802debfb"
      },
      "execution_count": 10,
      "outputs": [
        {
          "output_type": "stream",
          "name": "stdout",
          "text": [
            "佐藤さん, こんばんわ\n"
          ]
        }
      ]
    },
    {
      "cell_type": "markdown",
      "source": [
        "# 複数の戻り値を返す関数を定義"
      ],
      "metadata": {
        "id": "pzwobOOVjX26"
      }
    },
    {
      "cell_type": "code",
      "source": [
        "def keisan(x,y):\n",
        "  #x,y, x+y この3つの値を返す\n",
        "  return x, y, x+y\n",
        "#関数　keisanを実行して戻り値を受け取る\n",
        "e,f,g = keisan(3,6)\n",
        "print(e,f,g)\n"
      ],
      "metadata": {
        "colab": {
          "base_uri": "https://localhost:8080/"
        },
        "id": "wRrOPRHFjFFk",
        "outputId": "9d8025f8-4230-4854-c96d-fe69b2ea7a41"
      },
      "execution_count": 11,
      "outputs": [
        {
          "output_type": "stream",
          "name": "stdout",
          "text": [
            "3 6 9\n"
          ]
        }
      ]
    },
    {
      "cell_type": "markdown",
      "source": [
        "## その他の文法\n",
        "## 分岐（if文）"
      ],
      "metadata": {
        "id": "-SzC7E9YlfFN"
      }
    },
    {
      "cell_type": "code",
      "source": [
        "from re import S\n",
        "#if文の範囲もインデントで表す\n",
        "# numの値を閾値で分岐する\n",
        "def over (num, thres):\n",
        "  if num > thres:\n",
        "    print(str(num) + \"は\" + str(thres) + \"より大きい\")\n",
        "  else:\n",
        "    print(str(num) + \"は\" + str(thres) + \"以下です\")\n",
        "\n",
        "over(333, 100)\n",
        "over(-1,10)\n"
      ],
      "metadata": {
        "colab": {
          "base_uri": "https://localhost:8080/"
        },
        "id": "NOOmWUWskvuL",
        "outputId": "afaebe5b-0436-4509-805c-9bc05271ce6d"
      },
      "execution_count": 1,
      "outputs": [
        {
          "output_type": "stream",
          "name": "stdout",
          "text": [
            "333は100より大きい\n",
            "-1は10以下です\n"
          ]
        }
      ]
    },
    {
      "cell_type": "code",
      "source": [
        "# リストに第二引数の値が含まれるか判定\n",
        "def include( list, keyword):\n",
        "  uniq =set(list)# リストを集合に変更\n",
        "  if keyword in uniq :\n",
        "    print(keyword + \"含まれる\")\n",
        "  else:\n",
        "    print(keyword + \"が含まれない\")\n",
        "# 分岐の終わり\n",
        "#関数の終わり\n",
        "\n",
        "#リストを引き渡して作成した関数を実行する\n",
        "list_1=[\"アップル\", \"ペン\", \"パイナップル\"]#第一引数に使うリスト\n",
        "include(list_1, \"パイナップル\")\n",
        "include(list_1, \"バナナ\")"
      ],
      "metadata": {
        "colab": {
          "base_uri": "https://localhost:8080/"
        },
        "id": "lntd8L7ftS4k",
        "outputId": "0f912ec9-ae0e-4d2c-8af6-5e4ccea0a455"
      },
      "execution_count": 2,
      "outputs": [
        {
          "output_type": "stream",
          "name": "stdout",
          "text": [
            "パイナップル含まれる\n",
            "バナナが含まれない\n"
          ]
        }
      ]
    },
    {
      "cell_type": "markdown",
      "source": [
        "繰り返し文（while文）"
      ],
      "metadata": {
        "id": "r7FInlUDww-w"
      }
    },
    {
      "cell_type": "code",
      "source": [
        "def count(max):\n",
        "  num=0\n",
        "  while num < max:\n",
        "    print(num)\n",
        "    num+=1\n",
        "    #while繰り返し終わり\n",
        "    #関数終わり\n",
        "\n",
        "count(5)"
      ],
      "metadata": {
        "colab": {
          "base_uri": "https://localhost:8080/"
        },
        "id": "tLbuLJMmwBZq",
        "outputId": "56866ceb-3448-4234-ad7c-703e2d01a2b7"
      },
      "execution_count": 4,
      "outputs": [
        {
          "output_type": "stream",
          "name": "stdout",
          "text": [
            "0\n",
            "1\n",
            "2\n",
            "3\n",
            "4\n"
          ]
        }
      ]
    },
    {
      "cell_type": "markdown",
      "source": [
        "#繰り返し文（for文）\n",
        "変数ｂの集合から１つずつ取り出して変数aとして使う\n",
        "for変数a in range(変数ｂ)\n"
      ],
      "metadata": {
        "id": "4njWyBILymTY"
      }
    },
    {
      "cell_type": "code",
      "source": [
        "#集合（コレクション）の中から取り出して繰り返し\n",
        "def every(array):\n",
        "  for x in array:\n",
        "    print(x)\n",
        "\n",
        "list= [1,2,3]\n",
        "every(list)\n",
        "tuple = (4,5,6)\n",
        "every(tuple)\n",
        "#辞書型\n",
        "dict ={\"a\":7,\"b\":8,\"c\":9}\n",
        "every(dict)\n",
        "valuse=dict.values()\n",
        "every(valuse)\n",
        "#文字列も文字配列としてコレクション扱いできる\n",
        "every(\"dog\")"
      ],
      "metadata": {
        "colab": {
          "base_uri": "https://localhost:8080/"
        },
        "id": "KkzQ54v2xz_i",
        "outputId": "7f5c4511-799e-4771-eaa6-d5d85e2f6782"
      },
      "execution_count": 11,
      "outputs": [
        {
          "output_type": "stream",
          "name": "stdout",
          "text": [
            "1\n",
            "2\n",
            "3\n",
            "4\n",
            "5\n",
            "6\n",
            "a\n",
            "b\n",
            "c\n",
            "7\n",
            "8\n",
            "9\n",
            "d\n",
            "o\n",
            "g\n"
          ]
        }
      ]
    },
    {
      "cell_type": "code",
      "source": [
        "#カウンター変数で繰り返す\n",
        "#for n in range(数値)　0～数値未満繰り返す\n",
        "\n",
        "def count(num):\n",
        "  for i in range(num) :\n",
        "    print(i)\n",
        "\n",
        "\n",
        "count(3)\n"
      ],
      "metadata": {
        "colab": {
          "base_uri": "https://localhost:8080/"
        },
        "id": "6YpLwj880sjA",
        "outputId": "6781fcbc-6eed-4f19-b971-d1306244e3c7"
      },
      "execution_count": 12,
      "outputs": [
        {
          "output_type": "stream",
          "name": "stdout",
          "text": [
            "0\n",
            "1\n",
            "2\n"
          ]
        }
      ]
    },
    {
      "cell_type": "markdown",
      "source": [
        "## 繰り返しを中断したいときは、break命令"
      ],
      "metadata": {
        "id": "8lwIZ4dz5CBB"
      }
    },
    {
      "cell_type": "code",
      "source": [
        "def stop(array):\n",
        "  for i in array:\n",
        "    if i >=4:\n",
        "      break#ループ中断\n",
        "    print(i)\n",
        "list = [1,2,3,4,5,1,2,3,4,5]\n",
        "stop(list)\n"
      ],
      "metadata": {
        "colab": {
          "base_uri": "https://localhost:8080/"
        },
        "id": "93-KmAEj5ArV",
        "outputId": "dc7bae89-919e-4f10-e676-370350464c50"
      },
      "execution_count": 13,
      "outputs": [
        {
          "output_type": "stream",
          "name": "stdout",
          "text": [
            "1\n",
            "2\n",
            "3\n"
          ]
        }
      ]
    },
    {
      "cell_type": "markdown",
      "source": [
        "## continue命令"
      ],
      "metadata": {
        "id": "PesXXnVA7vGY"
      }
    },
    {
      "cell_type": "code",
      "source": [
        "def stop(array):\n",
        "  for i in array:\n",
        "    if i >=4:\n",
        "      continue#以降のループ内処理をスキップする\n",
        "    print(i)\n",
        "list = [1,2,3,4,5,1,2,3,4,5]\n",
        "stop(list)\n"
      ],
      "metadata": {
        "id": "_Bqm79Bf6ELY"
      },
      "execution_count": null,
      "outputs": []
    }
  ]
}