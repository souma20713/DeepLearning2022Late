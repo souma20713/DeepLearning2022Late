{
  "nbformat": 4,
  "nbformat_minor": 0,
  "metadata": {
    "colab": {
      "provenance": [],
      "authorship_tag": "ABX9TyNooyA5Qk3IEfJ7hLwjqRcv",
      "include_colab_link": true
    },
    "kernelspec": {
      "name": "python3",
      "display_name": "Python 3"
    },
    "language_info": {
      "name": "python"
    }
  },
  "cells": [
    {
      "cell_type": "markdown",
      "metadata": {
        "id": "view-in-github",
        "colab_type": "text"
      },
      "source": [
        "<a href=\"https://colab.research.google.com/github/souma20713/DeepLearning2022Late/blob/main/CNN%2BTrain_example.ipynb\" target=\"_parent\"><img src=\"https://colab.research.google.com/assets/colab-badge.svg\" alt=\"Open In Colab\"/></a>"
      ]
    },
    {
      "cell_type": "markdown",
      "source": [
        "### モデル import"
      ],
      "metadata": {
        "id": "K__waonr2aRb"
      }
    },
    {
      "cell_type": "code",
      "execution_count": 1,
      "metadata": {
        "id": "OhLKGWZb1uZX"
      },
      "outputs": [],
      "source": [
        "import keras\n",
        "from keras.models import Sequential, Model\n",
        "from keras.layers import Conv2D\n",
        "from keras.layers import Flatten\n",
        "from keras.layers import Activation\n",
        "from keras.layers import Dense\n",
        "from keras.utils import np_utils\n",
        "from keras.optimizers import SGD"
      ]
    },
    {
      "cell_type": "markdown",
      "source": [
        "### SVG画像 ライブラリ"
      ],
      "metadata": {
        "id": "zYiWWLsF2nuD"
      }
    },
    {
      "cell_type": "code",
      "source": [
        "from IPython.display import SVG\n",
        "from keras.utils.vis_utils import model_to_dot"
      ],
      "metadata": {
        "id": "Q4BWe-hr2mqO"
      },
      "execution_count": 2,
      "outputs": []
    },
    {
      "cell_type": "markdown",
      "source": [
        "### その他のライブラリ"
      ],
      "metadata": {
        "id": "45CiBTyr3LPf"
      }
    },
    {
      "cell_type": "code",
      "source": [
        "#乱数を作るため\n",
        "import numpy as np\n",
        "#早期終了のためのライブラリ\n",
        "import keras.callbacks as callbacks"
      ],
      "metadata": {
        "id": "NGJ2hVv33KkZ"
      },
      "execution_count": 3,
      "outputs": []
    },
    {
      "cell_type": "code",
      "source": [
        "x_train = np.random.random((100,6,6,1))\n",
        "y_train = keras.utils.to_categorical(np.random.randint(10,size=(100,1)),\n",
        "                                     num_classes=10)\n",
        "x_test=np.random.random((20,6,6,1))\n",
        "y_test=keras.utils.to_categorical(np.random.randint(10,size=(20,1)),\n",
        "                                     num_classes=10)"
      ],
      "metadata": {
        "id": "f0J2paCm4DGw"
      },
      "execution_count": 4,
      "outputs": []
    },
    {
      "cell_type": "markdown",
      "source": [],
      "metadata": {
        "id": "cuw_ZONp4CIn"
      }
    },
    {
      "cell_type": "code",
      "source": [
        "model=Sequential()"
      ],
      "metadata": {
        "id": "mRsn5Pkf2kTN"
      },
      "execution_count": 5,
      "outputs": []
    },
    {
      "cell_type": "code",
      "source": [
        "model.add(Conv2D(\n",
        "    filters=3,\n",
        "    kernel_size=(3,3),\n",
        "    input_shape=( 6 ,6 ,1),\n",
        "    kernel_initializer=\"lecun_uniform\",\n",
        "    name='Conv2D_1'\n",
        "))"
      ],
      "metadata": {
        "id": "T9cjuW7t2wI2"
      },
      "execution_count": 6,
      "outputs": []
    },
    {
      "cell_type": "code",
      "source": [
        "model.add(Flatten(name=\"Flatten_1\") )"
      ],
      "metadata": {
        "id": "tXWhOJeB21-O"
      },
      "execution_count": 7,
      "outputs": []
    },
    {
      "cell_type": "code",
      "source": [
        "model.add(Dense(\n",
        "    units=10,\n",
        "   activation=\"softmax\",\n",
        "   name=\"Dense_1\"\n",
        "))"
      ],
      "metadata": {
        "id": "7-gOrFdy2_Op"
      },
      "execution_count": 8,
      "outputs": []
    },
    {
      "cell_type": "code",
      "source": [
        "SVG(model_to_dot(model,show_shapes=True).create(prog=\"dot\",format=\"svg\"))"
      ],
      "metadata": {
        "colab": {
          "base_uri": "https://localhost:8080/",
          "height": 562
        },
        "id": "t_SJwL3z3H2z",
        "outputId": "0a82cd08-5224-488e-e826-377a13e8e4b9"
      },
      "execution_count": 10,
      "outputs": [
        {
          "output_type": "execute_result",
          "data": {
            "text/plain": [
              "<IPython.core.display.SVG object>"
            ],
            "image/svg+xml": "<svg height=\"405pt\" viewBox=\"0.00 0.00 296.00 304.00\" width=\"395pt\" xmlns=\"http://www.w3.org/2000/svg\" xmlns:xlink=\"http://www.w3.org/1999/xlink\">\n<g class=\"graph\" id=\"graph0\" transform=\"scale(1.3333 1.3333) rotate(0) translate(4 300)\">\n<title>G</title>\n<polygon fill=\"#ffffff\" points=\"-4,4 -4,-300 292,-300 292,4 -4,4\" stroke=\"transparent\"/>\n<!-- 140686258833424 -->\n<g class=\"node\" id=\"node1\">\n<title>140686258833424</title>\n<polygon fill=\"none\" points=\"0,-249.5 0,-295.5 288,-295.5 288,-249.5 0,-249.5\" stroke=\"#000000\"/>\n<text fill=\"#000000\" font-family=\"Times,serif\" font-size=\"14.00\" text-anchor=\"middle\" x=\"59.5\" y=\"-280.3\">Conv2D_1_input</text>\n<polyline fill=\"none\" points=\"0,-272.5 119,-272.5 \" stroke=\"#000000\"/>\n<text fill=\"#000000\" font-family=\"Times,serif\" font-size=\"14.00\" text-anchor=\"middle\" x=\"59.5\" y=\"-257.3\">InputLayer</text>\n<polyline fill=\"none\" points=\"119,-249.5 119,-295.5 \" stroke=\"#000000\"/>\n<text fill=\"#000000\" font-family=\"Times,serif\" font-size=\"14.00\" text-anchor=\"middle\" x=\"148\" y=\"-280.3\">input:</text>\n<polyline fill=\"none\" points=\"119,-272.5 177,-272.5 \" stroke=\"#000000\"/>\n<text fill=\"#000000\" font-family=\"Times,serif\" font-size=\"14.00\" text-anchor=\"middle\" x=\"148\" y=\"-257.3\">output:</text>\n<polyline fill=\"none\" points=\"177,-249.5 177,-295.5 \" stroke=\"#000000\"/>\n<text fill=\"#000000\" font-family=\"Times,serif\" font-size=\"14.00\" text-anchor=\"middle\" x=\"232.5\" y=\"-280.3\">[(None, 6, 6, 1)]</text>\n<polyline fill=\"none\" points=\"177,-272.5 288,-272.5 \" stroke=\"#000000\"/>\n<text fill=\"#000000\" font-family=\"Times,serif\" font-size=\"14.00\" text-anchor=\"middle\" x=\"232.5\" y=\"-257.3\">[(None, 6, 6, 1)]</text>\n</g>\n<!-- 140686238927568 -->\n<g class=\"node\" id=\"node2\">\n<title>140686238927568</title>\n<polygon fill=\"none\" points=\"23,-166.5 23,-212.5 265,-212.5 265,-166.5 23,-166.5\" stroke=\"#000000\"/>\n<text fill=\"#000000\" font-family=\"Times,serif\" font-size=\"14.00\" text-anchor=\"middle\" x=\"64\" y=\"-197.3\">Conv2D_1</text>\n<polyline fill=\"none\" points=\"23,-189.5 105,-189.5 \" stroke=\"#000000\"/>\n<text fill=\"#000000\" font-family=\"Times,serif\" font-size=\"14.00\" text-anchor=\"middle\" x=\"64\" y=\"-174.3\">Conv2D</text>\n<polyline fill=\"none\" points=\"105,-166.5 105,-212.5 \" stroke=\"#000000\"/>\n<text fill=\"#000000\" font-family=\"Times,serif\" font-size=\"14.00\" text-anchor=\"middle\" x=\"134\" y=\"-197.3\">input:</text>\n<polyline fill=\"none\" points=\"105,-189.5 163,-189.5 \" stroke=\"#000000\"/>\n<text fill=\"#000000\" font-family=\"Times,serif\" font-size=\"14.00\" text-anchor=\"middle\" x=\"134\" y=\"-174.3\">output:</text>\n<polyline fill=\"none\" points=\"163,-166.5 163,-212.5 \" stroke=\"#000000\"/>\n<text fill=\"#000000\" font-family=\"Times,serif\" font-size=\"14.00\" text-anchor=\"middle\" x=\"214\" y=\"-197.3\">(None, 6, 6, 1)</text>\n<polyline fill=\"none\" points=\"163,-189.5 265,-189.5 \" stroke=\"#000000\"/>\n<text fill=\"#000000\" font-family=\"Times,serif\" font-size=\"14.00\" text-anchor=\"middle\" x=\"214\" y=\"-174.3\">(None, 4, 4, 3)</text>\n</g>\n<!-- 140686258833424&#45;&gt;140686238927568 -->\n<g class=\"edge\" id=\"edge1\">\n<title>140686258833424-&gt;140686238927568</title>\n<path d=\"M144,-249.3799C144,-241.1745 144,-231.7679 144,-222.8786\" fill=\"none\" stroke=\"#000000\"/>\n<polygon fill=\"#000000\" points=\"147.5001,-222.784 144,-212.784 140.5001,-222.784 147.5001,-222.784\" stroke=\"#000000\"/>\n</g>\n<!-- 140686169304976 -->\n<g class=\"node\" id=\"node3\">\n<title>140686169304976</title>\n<polygon fill=\"none\" points=\"28.5,-83.5 28.5,-129.5 259.5,-129.5 259.5,-83.5 28.5,-83.5\" stroke=\"#000000\"/>\n<text fill=\"#000000\" font-family=\"Times,serif\" font-size=\"14.00\" text-anchor=\"middle\" x=\"64\" y=\"-114.3\">Flatten_1</text>\n<polyline fill=\"none\" points=\"28.5,-106.5 99.5,-106.5 \" stroke=\"#000000\"/>\n<text fill=\"#000000\" font-family=\"Times,serif\" font-size=\"14.00\" text-anchor=\"middle\" x=\"64\" y=\"-91.3\">Flatten</text>\n<polyline fill=\"none\" points=\"99.5,-83.5 99.5,-129.5 \" stroke=\"#000000\"/>\n<text fill=\"#000000\" font-family=\"Times,serif\" font-size=\"14.00\" text-anchor=\"middle\" x=\"128.5\" y=\"-114.3\">input:</text>\n<polyline fill=\"none\" points=\"99.5,-106.5 157.5,-106.5 \" stroke=\"#000000\"/>\n<text fill=\"#000000\" font-family=\"Times,serif\" font-size=\"14.00\" text-anchor=\"middle\" x=\"128.5\" y=\"-91.3\">output:</text>\n<polyline fill=\"none\" points=\"157.5,-83.5 157.5,-129.5 \" stroke=\"#000000\"/>\n<text fill=\"#000000\" font-family=\"Times,serif\" font-size=\"14.00\" text-anchor=\"middle\" x=\"208.5\" y=\"-114.3\">(None, 4, 4, 3)</text>\n<polyline fill=\"none\" points=\"157.5,-106.5 259.5,-106.5 \" stroke=\"#000000\"/>\n<text fill=\"#000000\" font-family=\"Times,serif\" font-size=\"14.00\" text-anchor=\"middle\" x=\"208.5\" y=\"-91.3\">(None, 48)</text>\n</g>\n<!-- 140686238927568&#45;&gt;140686169304976 -->\n<g class=\"edge\" id=\"edge2\">\n<title>140686238927568-&gt;140686169304976</title>\n<path d=\"M144,-166.3799C144,-158.1745 144,-148.7679 144,-139.8786\" fill=\"none\" stroke=\"#000000\"/>\n<polygon fill=\"#000000\" points=\"147.5001,-139.784 144,-129.784 140.5001,-139.784 147.5001,-139.784\" stroke=\"#000000\"/>\n</g>\n<!-- 140686169098320 -->\n<g class=\"node\" id=\"node4\">\n<title>140686169098320</title>\n<polygon fill=\"none\" points=\"41.5,-.5 41.5,-46.5 246.5,-46.5 246.5,-.5 41.5,-.5\" stroke=\"#000000\"/>\n<text fill=\"#000000\" font-family=\"Times,serif\" font-size=\"14.00\" text-anchor=\"middle\" x=\"75\" y=\"-31.3\">Dense_1</text>\n<polyline fill=\"none\" points=\"41.5,-23.5 108.5,-23.5 \" stroke=\"#000000\"/>\n<text fill=\"#000000\" font-family=\"Times,serif\" font-size=\"14.00\" text-anchor=\"middle\" x=\"75\" y=\"-8.3\">Dense</text>\n<polyline fill=\"none\" points=\"108.5,-.5 108.5,-46.5 \" stroke=\"#000000\"/>\n<text fill=\"#000000\" font-family=\"Times,serif\" font-size=\"14.00\" text-anchor=\"middle\" x=\"137.5\" y=\"-31.3\">input:</text>\n<polyline fill=\"none\" points=\"108.5,-23.5 166.5,-23.5 \" stroke=\"#000000\"/>\n<text fill=\"#000000\" font-family=\"Times,serif\" font-size=\"14.00\" text-anchor=\"middle\" x=\"137.5\" y=\"-8.3\">output:</text>\n<polyline fill=\"none\" points=\"166.5,-.5 166.5,-46.5 \" stroke=\"#000000\"/>\n<text fill=\"#000000\" font-family=\"Times,serif\" font-size=\"14.00\" text-anchor=\"middle\" x=\"206.5\" y=\"-31.3\">(None, 48)</text>\n<polyline fill=\"none\" points=\"166.5,-23.5 246.5,-23.5 \" stroke=\"#000000\"/>\n<text fill=\"#000000\" font-family=\"Times,serif\" font-size=\"14.00\" text-anchor=\"middle\" x=\"206.5\" y=\"-8.3\">(None, 10)</text>\n</g>\n<!-- 140686169304976&#45;&gt;140686169098320 -->\n<g class=\"edge\" id=\"edge3\">\n<title>140686169304976-&gt;140686169098320</title>\n<path d=\"M144,-83.3799C144,-75.1745 144,-65.7679 144,-56.8786\" fill=\"none\" stroke=\"#000000\"/>\n<polygon fill=\"#000000\" points=\"147.5001,-56.784 144,-46.784 140.5001,-56.784 147.5001,-56.784\" stroke=\"#000000\"/>\n</g>\n</g>\n</svg>"
          },
          "metadata": {},
          "execution_count": 10
        }
      ]
    },
    {
      "cell_type": "code",
      "source": [
        "earlyStopping=callbacks.EarlyStopping(monitor=\"val_loss\",patience=5)"
      ],
      "metadata": {
        "id": "J6hT2o2XM_T9"
      },
      "execution_count": 11,
      "outputs": []
    },
    {
      "cell_type": "code",
      "source": [
        "model.compile(loss=\"mean_squared_error\",optimizer=\"sgd\")\n",
        "model.fit(x_train,y_train, batch_size=32,epochs=10,callbacks=[earlyStopping],validation_split=0.2)"
      ],
      "metadata": {
        "colab": {
          "base_uri": "https://localhost:8080/"
        },
        "id": "jPflpd4YSLFs",
        "outputId": "24728a3e-11c8-4524-b88d-71ad2caf64c9"
      },
      "execution_count": 12,
      "outputs": [
        {
          "output_type": "stream",
          "name": "stdout",
          "text": [
            "Epoch 1/10\n",
            "3/3 [==============================] - 2s 198ms/step - loss: 0.0936 - val_loss: 0.0901\n",
            "Epoch 2/10\n",
            "3/3 [==============================] - 0s 18ms/step - loss: 0.0936 - val_loss: 0.0901\n",
            "Epoch 3/10\n",
            "3/3 [==============================] - 0s 25ms/step - loss: 0.0936 - val_loss: 0.0901\n",
            "Epoch 4/10\n",
            "3/3 [==============================] - 0s 17ms/step - loss: 0.0936 - val_loss: 0.0901\n",
            "Epoch 5/10\n",
            "3/3 [==============================] - 0s 22ms/step - loss: 0.0936 - val_loss: 0.0900\n",
            "Epoch 6/10\n",
            "3/3 [==============================] - 0s 17ms/step - loss: 0.0936 - val_loss: 0.0900\n",
            "Epoch 7/10\n",
            "3/3 [==============================] - 0s 16ms/step - loss: 0.0936 - val_loss: 0.0900\n",
            "Epoch 8/10\n",
            "3/3 [==============================] - 0s 16ms/step - loss: 0.0936 - val_loss: 0.0900\n",
            "Epoch 9/10\n",
            "3/3 [==============================] - 0s 21ms/step - loss: 0.0935 - val_loss: 0.0900\n",
            "Epoch 10/10\n",
            "3/3 [==============================] - 0s 16ms/step - loss: 0.0935 - val_loss: 0.0900\n"
          ]
        },
        {
          "output_type": "execute_result",
          "data": {
            "text/plain": [
              "<keras.callbacks.History at 0x7ff40a407790>"
            ]
          },
          "metadata": {},
          "execution_count": 12
        }
      ]
    },
    {
      "cell_type": "code",
      "source": [],
      "metadata": {
        "id": "Yfe8tnAUS03a"
      },
      "execution_count": null,
      "outputs": []
    }
  ]
}