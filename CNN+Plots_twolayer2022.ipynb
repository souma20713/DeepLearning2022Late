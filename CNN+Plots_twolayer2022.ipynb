{
  "nbformat": 4,
  "nbformat_minor": 0,
  "metadata": {
    "colab": {
      "provenance": [],
      "authorship_tag": "ABX9TyP0DM1oFy9n0jMXGsuV8d5S",
      "include_colab_link": true
    },
    "kernelspec": {
      "name": "python3",
      "display_name": "Python 3"
    },
    "language_info": {
      "name": "python"
    }
  },
  "cells": [
    {
      "cell_type": "markdown",
      "metadata": {
        "id": "view-in-github",
        "colab_type": "text"
      },
      "source": [
        "<a href=\"https://colab.research.google.com/github/souma20713/DeepLearning2022Late/blob/main/CNN%2BPlots_twolayer2022.ipynb\" target=\"_parent\"><img src=\"https://colab.research.google.com/assets/colab-badge.svg\" alt=\"Open In Colab\"/></a>"
      ]
    },
    {
      "cell_type": "code",
      "execution_count": 1,
      "metadata": {
        "id": "OJiY78qDRZyH"
      },
      "outputs": [],
      "source": [
        "# coding: utf-8\n",
        "# Conv2Dを使ったCNNの例\n",
        "\n",
        "# CNN Model 1 - one layer\n",
        "# Kerasとその他ライブラリをインポート\n",
        "from keras.models import Sequential, Model\n",
        "from keras.layers import Conv2D # 畳み込み層のクラスモジュール\n",
        "# from keras.utils import np_utils"
      ]
    },
    {
      "cell_type": "code",
      "source": [
        "# SVGの表示に必要なライブラリのインポート\n",
        "from IPython.display import SVG\n",
        "from keras.utils.vis_utils import model_to_dot"
      ],
      "metadata": {
        "id": "WhIvqr7wRdII"
      },
      "execution_count": 2,
      "outputs": []
    },
    {
      "cell_type": "code",
      "source": [
        "# Windowsの場合は以下を追加\n",
        "# import os\n",
        "# os.environ[\"PATH\"] += os.pathsep + 'C:/Program Files (x86)/Graphviz2.38/bin/'"
      ],
      "metadata": {
        "id": "YaooofpuRetL"
      },
      "execution_count": 3,
      "outputs": []
    },
    {
      "cell_type": "code",
      "source": [
        "# 畳み込みニューラルネットワークのモデルを作成\n",
        "model = Sequential() # インスタンスを生成\n",
        "# CNN畳み込み層を1層追加する\n",
        "model.add(Conv2D(filters=3, # フィルターのニューロンを3パターン\n",
        "                 kernel_size=(3, 3), # 受容野の大きさ（幅3, 縦3）\n",
        "                 input_shape=(6, 6, 1), \n",
        "                 name='Conv2D_1'\n",
        "                 ))"
      ],
      "metadata": {
        "id": "d8oAmfwNRhnT"
      },
      "execution_count": 4,
      "outputs": []
    },
    {
      "cell_type": "code",
      "source": [
        "model.add(Conv2D(filters=3, # フィルターのニューロンを3パターン\n",
        "                 kernel_size=(3, 3), # 受容野の大きさ（幅3, 縦3）\n",
        "                 name='Conv2D_2'\n",
        "                 ))\n"
      ],
      "metadata": {
        "id": "yU-MoqVvRjt2"
      },
      "execution_count": 5,
      "outputs": []
    },
    {
      "cell_type": "code",
      "source": [
        "# SVG形式でモデルを表示\n",
        "SVG(model_to_dot(model, show_shapes=True, dpi=None).create(prog='dot', format='svg'))"
      ],
      "metadata": {
        "colab": {
          "base_uri": "https://localhost:8080/",
          "height": 316
        },
        "id": "o_DN1CSpRojG",
        "outputId": "4fbabfca-7835-4fe7-b3f4-d8b1660bf378"
      },
      "execution_count": 6,
      "outputs": [
        {
          "output_type": "execute_result",
          "data": {
            "text/plain": [
              "<IPython.core.display.SVG object>"
            ],
            "image/svg+xml": "<svg xmlns=\"http://www.w3.org/2000/svg\" xmlns:xlink=\"http://www.w3.org/1999/xlink\" width=\"352pt\" height=\"221pt\" viewBox=\"0.00 0.00 352.00 221.00\">\n<g id=\"graph0\" class=\"graph\" transform=\"scale(1 1) rotate(0) translate(4 217)\">\n<title>G</title>\n<polygon fill=\"white\" stroke=\"transparent\" points=\"-4,4 -4,-217 348,-217 348,4 -4,4\"/>\n<!-- dpi -->\n<g id=\"node1\" class=\"node\">\n<title>dpi</title>\n<ellipse fill=\"none\" stroke=\"black\" cx=\"27\" cy=\"-189.5\" rx=\"27\" ry=\"18\"/>\n<text text-anchor=\"middle\" x=\"27\" y=\"-185.8\" font-family=\"Times,serif\" font-size=\"14.00\">dpi</text>\n</g>\n<!-- 140158024759184 -->\n<g id=\"node2\" class=\"node\">\n<title>140158024759184</title>\n<polygon fill=\"none\" stroke=\"black\" points=\"72,-166.5 72,-212.5 344,-212.5 344,-166.5 72,-166.5\"/>\n<text text-anchor=\"middle\" x=\"127\" y=\"-197.3\" font-family=\"Times,serif\" font-size=\"14.00\">Conv2D_1_input</text>\n<polyline fill=\"none\" stroke=\"black\" points=\"72,-189.5 182,-189.5 \"/>\n<text text-anchor=\"middle\" x=\"127\" y=\"-174.3\" font-family=\"Times,serif\" font-size=\"14.00\">InputLayer</text>\n<polyline fill=\"none\" stroke=\"black\" points=\"182,-166.5 182,-212.5 \"/>\n<text text-anchor=\"middle\" x=\"209.5\" y=\"-197.3\" font-family=\"Times,serif\" font-size=\"14.00\">input:</text>\n<polyline fill=\"none\" stroke=\"black\" points=\"182,-189.5 237,-189.5 \"/>\n<text text-anchor=\"middle\" x=\"209.5\" y=\"-174.3\" font-family=\"Times,serif\" font-size=\"14.00\">output:</text>\n<polyline fill=\"none\" stroke=\"black\" points=\"237,-166.5 237,-212.5 \"/>\n<text text-anchor=\"middle\" x=\"290.5\" y=\"-197.3\" font-family=\"Times,serif\" font-size=\"14.00\">[(None, 6, 6, 1)]</text>\n<polyline fill=\"none\" stroke=\"black\" points=\"237,-189.5 344,-189.5 \"/>\n<text text-anchor=\"middle\" x=\"290.5\" y=\"-174.3\" font-family=\"Times,serif\" font-size=\"14.00\">[(None, 6, 6, 1)]</text>\n</g>\n<!-- 140158024759280 -->\n<g id=\"node3\" class=\"node\">\n<title>140158024759280</title>\n<polygon fill=\"none\" stroke=\"black\" points=\"93.5,-83.5 93.5,-129.5 322.5,-129.5 322.5,-83.5 93.5,-83.5\"/>\n<text text-anchor=\"middle\" x=\"131.5\" y=\"-114.3\" font-family=\"Times,serif\" font-size=\"14.00\">Conv2D_1</text>\n<polyline fill=\"none\" stroke=\"black\" points=\"93.5,-106.5 169.5,-106.5 \"/>\n<text text-anchor=\"middle\" x=\"131.5\" y=\"-91.3\" font-family=\"Times,serif\" font-size=\"14.00\">Conv2D</text>\n<polyline fill=\"none\" stroke=\"black\" points=\"169.5,-83.5 169.5,-129.5 \"/>\n<text text-anchor=\"middle\" x=\"197\" y=\"-114.3\" font-family=\"Times,serif\" font-size=\"14.00\">input:</text>\n<polyline fill=\"none\" stroke=\"black\" points=\"169.5,-106.5 224.5,-106.5 \"/>\n<text text-anchor=\"middle\" x=\"197\" y=\"-91.3\" font-family=\"Times,serif\" font-size=\"14.00\">output:</text>\n<polyline fill=\"none\" stroke=\"black\" points=\"224.5,-83.5 224.5,-129.5 \"/>\n<text text-anchor=\"middle\" x=\"273.5\" y=\"-114.3\" font-family=\"Times,serif\" font-size=\"14.00\">(None, 6, 6, 1)</text>\n<polyline fill=\"none\" stroke=\"black\" points=\"224.5,-106.5 322.5,-106.5 \"/>\n<text text-anchor=\"middle\" x=\"273.5\" y=\"-91.3\" font-family=\"Times,serif\" font-size=\"14.00\">(None, 4, 4, 3)</text>\n</g>\n<!-- 140158024759184&#45;&gt;140158024759280 -->\n<g id=\"edge1\" class=\"edge\">\n<title>140158024759184-&gt;140158024759280</title>\n<path fill=\"none\" stroke=\"black\" d=\"M208,-166.37C208,-158.15 208,-148.66 208,-139.73\"/>\n<polygon fill=\"black\" stroke=\"black\" points=\"211.5,-139.61 208,-129.61 204.5,-139.61 211.5,-139.61\"/>\n</g>\n<!-- 140157951880112 -->\n<g id=\"node4\" class=\"node\">\n<title>140157951880112</title>\n<polygon fill=\"none\" stroke=\"black\" points=\"93.5,-0.5 93.5,-46.5 322.5,-46.5 322.5,-0.5 93.5,-0.5\"/>\n<text text-anchor=\"middle\" x=\"131.5\" y=\"-31.3\" font-family=\"Times,serif\" font-size=\"14.00\">Conv2D_2</text>\n<polyline fill=\"none\" stroke=\"black\" points=\"93.5,-23.5 169.5,-23.5 \"/>\n<text text-anchor=\"middle\" x=\"131.5\" y=\"-8.3\" font-family=\"Times,serif\" font-size=\"14.00\">Conv2D</text>\n<polyline fill=\"none\" stroke=\"black\" points=\"169.5,-0.5 169.5,-46.5 \"/>\n<text text-anchor=\"middle\" x=\"197\" y=\"-31.3\" font-family=\"Times,serif\" font-size=\"14.00\">input:</text>\n<polyline fill=\"none\" stroke=\"black\" points=\"169.5,-23.5 224.5,-23.5 \"/>\n<text text-anchor=\"middle\" x=\"197\" y=\"-8.3\" font-family=\"Times,serif\" font-size=\"14.00\">output:</text>\n<polyline fill=\"none\" stroke=\"black\" points=\"224.5,-0.5 224.5,-46.5 \"/>\n<text text-anchor=\"middle\" x=\"273.5\" y=\"-31.3\" font-family=\"Times,serif\" font-size=\"14.00\">(None, 4, 4, 3)</text>\n<polyline fill=\"none\" stroke=\"black\" points=\"224.5,-23.5 322.5,-23.5 \"/>\n<text text-anchor=\"middle\" x=\"273.5\" y=\"-8.3\" font-family=\"Times,serif\" font-size=\"14.00\">(None, 2, 2, 3)</text>\n</g>\n<!-- 140158024759280&#45;&gt;140157951880112 -->\n<g id=\"edge2\" class=\"edge\">\n<title>140158024759280-&gt;140157951880112</title>\n<path fill=\"none\" stroke=\"black\" d=\"M208,-83.37C208,-75.15 208,-65.66 208,-56.73\"/>\n<polygon fill=\"black\" stroke=\"black\" points=\"211.5,-56.61 208,-46.61 204.5,-56.61 211.5,-56.61\"/>\n</g>\n</g>\n</svg>"
          },
          "metadata": {},
          "execution_count": 6
        }
      ]
    },
    {
      "cell_type": "code",
      "source": [
        "model.summary()"
      ],
      "metadata": {
        "id": "PugRrbQgRo7_",
        "outputId": "197faa22-af61-434f-bb2c-0d6ca638471c",
        "colab": {
          "base_uri": "https://localhost:8080/"
        }
      },
      "execution_count": 7,
      "outputs": [
        {
          "output_type": "stream",
          "name": "stdout",
          "text": [
            "Model: \"sequential\"\n",
            "_________________________________________________________________\n",
            " Layer (type)                Output Shape              Param #   \n",
            "=================================================================\n",
            " Conv2D_1 (Conv2D)           (None, 4, 4, 3)           30        \n",
            "                                                                 \n",
            " Conv2D_2 (Conv2D)           (None, 2, 2, 3)           84        \n",
            "                                                                 \n",
            "=================================================================\n",
            "Total params: 114\n",
            "Trainable params: 114\n",
            "Non-trainable params: 0\n",
            "_________________________________________________________________\n"
          ]
        }
      ]
    },
    {
      "cell_type": "code",
      "source": [],
      "metadata": {
        "id": "KTMH0Cr1Rq4e"
      },
      "execution_count": null,
      "outputs": []
    }
  ]
}