{
  "nbformat": 4,
  "nbformat_minor": 0,
  "metadata": {
    "colab": {
      "provenance": [],
      "authorship_tag": "ABX9TyOJ04ltKEbx/6YxGbqKXtI+",
      "include_colab_link": true
    },
    "kernelspec": {
      "name": "python3",
      "display_name": "Python 3"
    },
    "language_info": {
      "name": "python"
    },
    "accelerator": "GPU",
    "gpuClass": "standard"
  },
  "cells": [
    {
      "cell_type": "markdown",
      "metadata": {
        "id": "view-in-github",
        "colab_type": "text"
      },
      "source": [
        "<a href=\"https://colab.research.google.com/github/souma20713/DeepLearning2022Late/blob/main/RNN%2BPlot_LSTM2022.ipynb\" target=\"_parent\"><img src=\"https://colab.research.google.com/assets/colab-badge.svg\" alt=\"Open In Colab\"/></a>"
      ]
    },
    {
      "cell_type": "code",
      "execution_count": null,
      "metadata": {
        "id": "eq-4HjMmfC53"
      },
      "outputs": [],
      "source": [
        "from keras.models import Model\n",
        "from keras.layers import Input, LSTM"
      ]
    },
    {
      "cell_type": "code",
      "source": [
        "from IPython.display import SVG\n",
        "from keras.utils.vis_utils import model_to_dot"
      ],
      "metadata": {
        "id": "ZkuFqU4vfSvn"
      },
      "execution_count": null,
      "outputs": []
    },
    {
      "cell_type": "code",
      "source": [
        "units=10\n",
        "time_steps =5\n",
        "input_dim=15\n",
        "input_shape =(time_steps, input_dim)"
      ],
      "metadata": {
        "id": "DjC3o0vWfWMN"
      },
      "execution_count": null,
      "outputs": []
    },
    {
      "cell_type": "code",
      "source": [
        "x=Input(shape=input_shape, name='Input')\n",
        "y=LSTM ( units=units, activation='sigmoid', name='LSTM_1') (x)\n",
        "model=Model(inputs=[x], outputs=[y])\n",
        "SVG( model_to_dot(model,show_shapes=True, dpi=None)\n",
        ".create( prog='dot', format='svg'))"
      ],
      "metadata": {
        "colab": {
          "base_uri": "https://localhost:8080/",
          "height": 244
        },
        "id": "JUE3e3BBfnzg",
        "outputId": "ae2ac3c2-445d-4fb9-f633-962bfcd02457"
      },
      "execution_count": null,
      "outputs": [
        {
          "output_type": "stream",
          "name": "stderr",
          "text": [
            "WARNING:tensorflow:Layer LSTM_1 will not use cuDNN kernels since it doesn't meet the criteria. It will use a generic GPU kernel as fallback when running on GPU.\n"
          ]
        },
        {
          "output_type": "execute_result",
          "data": {
            "text/plain": [
              "<IPython.core.display.SVG object>"
            ],
            "image/svg+xml": "<svg xmlns=\"http://www.w3.org/2000/svg\" xmlns:xlink=\"http://www.w3.org/1999/xlink\" width=\"312pt\" height=\"138pt\" viewBox=\"0.00 0.00 311.50 138.00\">\n<g id=\"graph0\" class=\"graph\" transform=\"scale(1 1) rotate(0) translate(4 134)\">\n<title>G</title>\n<polygon fill=\"white\" stroke=\"transparent\" points=\"-4,4 -4,-134 307.5,-134 307.5,4 -4,4\"/>\n<!-- dpi -->\n<g id=\"node1\" class=\"node\">\n<title>dpi</title>\n<ellipse fill=\"none\" stroke=\"black\" cx=\"27\" cy=\"-106.5\" rx=\"27\" ry=\"18\"/>\n<text text-anchor=\"middle\" x=\"27\" y=\"-102.8\" font-family=\"Times,serif\" font-size=\"14.00\">dpi</text>\n</g>\n<!-- 140078780264512 -->\n<g id=\"node2\" class=\"node\">\n<title>140078780264512</title>\n<polygon fill=\"none\" stroke=\"black\" points=\"72.5,-83.5 72.5,-129.5 303.5,-129.5 303.5,-83.5 72.5,-83.5\"/>\n<text text-anchor=\"middle\" x=\"111\" y=\"-114.3\" font-family=\"Times,serif\" font-size=\"14.00\">Input</text>\n<polyline fill=\"none\" stroke=\"black\" points=\"72.5,-106.5 149.5,-106.5 \"/>\n<text text-anchor=\"middle\" x=\"111\" y=\"-91.3\" font-family=\"Times,serif\" font-size=\"14.00\">InputLayer</text>\n<polyline fill=\"none\" stroke=\"black\" points=\"149.5,-83.5 149.5,-129.5 \"/>\n<text text-anchor=\"middle\" x=\"177\" y=\"-114.3\" font-family=\"Times,serif\" font-size=\"14.00\">input:</text>\n<polyline fill=\"none\" stroke=\"black\" points=\"149.5,-106.5 204.5,-106.5 \"/>\n<text text-anchor=\"middle\" x=\"177\" y=\"-91.3\" font-family=\"Times,serif\" font-size=\"14.00\">output:</text>\n<polyline fill=\"none\" stroke=\"black\" points=\"204.5,-83.5 204.5,-129.5 \"/>\n<text text-anchor=\"middle\" x=\"254\" y=\"-114.3\" font-family=\"Times,serif\" font-size=\"14.00\">[(None, 5, 15)]</text>\n<polyline fill=\"none\" stroke=\"black\" points=\"204.5,-106.5 303.5,-106.5 \"/>\n<text text-anchor=\"middle\" x=\"254\" y=\"-91.3\" font-family=\"Times,serif\" font-size=\"14.00\">[(None, 5, 15)]</text>\n</g>\n<!-- 140078791986864 -->\n<g id=\"node3\" class=\"node\">\n<title>140078791986864</title>\n<polygon fill=\"none\" stroke=\"black\" points=\"82,-0.5 82,-46.5 294,-46.5 294,-0.5 82,-0.5\"/>\n<text text-anchor=\"middle\" x=\"115.5\" y=\"-31.3\" font-family=\"Times,serif\" font-size=\"14.00\">LSTM_1</text>\n<polyline fill=\"none\" stroke=\"black\" points=\"82,-23.5 149,-23.5 \"/>\n<text text-anchor=\"middle\" x=\"115.5\" y=\"-8.3\" font-family=\"Times,serif\" font-size=\"14.00\">LSTM</text>\n<polyline fill=\"none\" stroke=\"black\" points=\"149,-0.5 149,-46.5 \"/>\n<text text-anchor=\"middle\" x=\"176.5\" y=\"-31.3\" font-family=\"Times,serif\" font-size=\"14.00\">input:</text>\n<polyline fill=\"none\" stroke=\"black\" points=\"149,-23.5 204,-23.5 \"/>\n<text text-anchor=\"middle\" x=\"176.5\" y=\"-8.3\" font-family=\"Times,serif\" font-size=\"14.00\">output:</text>\n<polyline fill=\"none\" stroke=\"black\" points=\"204,-0.5 204,-46.5 \"/>\n<text text-anchor=\"middle\" x=\"249\" y=\"-31.3\" font-family=\"Times,serif\" font-size=\"14.00\">(None, 5, 15)</text>\n<polyline fill=\"none\" stroke=\"black\" points=\"204,-23.5 294,-23.5 \"/>\n<text text-anchor=\"middle\" x=\"249\" y=\"-8.3\" font-family=\"Times,serif\" font-size=\"14.00\">(None, 10)</text>\n</g>\n<!-- 140078780264512&#45;&gt;140078791986864 -->\n<g id=\"edge1\" class=\"edge\">\n<title>140078780264512-&gt;140078791986864</title>\n<path fill=\"none\" stroke=\"black\" d=\"M188,-83.37C188,-75.15 188,-65.66 188,-56.73\"/>\n<polygon fill=\"black\" stroke=\"black\" points=\"191.5,-56.61 188,-46.61 184.5,-56.61 191.5,-56.61\"/>\n</g>\n</g>\n</svg>"
          },
          "metadata": {},
          "execution_count": 4
        }
      ]
    },
    {
      "cell_type": "code",
      "source": [],
      "metadata": {
        "id": "xyf1OuJ7f2Oe"
      },
      "execution_count": null,
      "outputs": []
    }
  ]
}