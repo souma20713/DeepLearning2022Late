{
  "nbformat": 4,
  "nbformat_minor": 0,
  "metadata": {
    "colab": {
      "provenance": [],
      "authorship_tag": "ABX9TyMr8pb7fp+rApPfvvROK3AG",
      "include_colab_link": true
    },
    "kernelspec": {
      "name": "python3",
      "display_name": "Python 3"
    },
    "language_info": {
      "name": "python"
    }
  },
  "cells": [
    {
      "cell_type": "markdown",
      "metadata": {
        "id": "view-in-github",
        "colab_type": "text"
      },
      "source": [
        "<a href=\"https://colab.research.google.com/github/souma20713/DeepLearning2022Late/blob/main/%E3%83%A2%E3%82%B8%E3%83%A5%E3%83%BC%E3%83%AB%E3%81%A8%E3%83%A9%E3%82%A4%E3%83%96%E3%83%A9%E3%83%AA%E4%BD%BF%E7%94%A80920.ipynb\" target=\"_parent\"><img src=\"https://colab.research.google.com/assets/colab-badge.svg\" alt=\"Open In Colab\"/></a>"
      ]
    },
    {
      "cell_type": "markdown",
      "source": [
        "# モジュールを使う\n",
        "import文でモジュールを読み込んで使う\n",
        "## 例）math"
      ],
      "metadata": {
        "id": "tl2jxQYu8-Ap"
      }
    },
    {
      "cell_type": "code",
      "execution_count": 1,
      "metadata": {
        "colab": {
          "base_uri": "https://localhost:8080/"
        },
        "id": "FbXvR1Ec8S6L",
        "outputId": "36dc7277-7451-4bbe-b302-5123fa7acc1f"
      },
      "outputs": [
        {
          "output_type": "stream",
          "name": "stdout",
          "text": [
            "3.141592653589793\n",
            "25.0\n",
            "3.0\n"
          ]
        }
      ],
      "source": [
        "import math\n",
        "print(math.pi)\n",
        "print(math.pow(5,2))#5の2乗\n",
        "print(math.sqrt(9))#9の平方根\n",
        "\n"
      ]
    },
    {
      "cell_type": "markdown",
      "source": [
        "## Numpy--数値計算用の便利なライブラリ\n",
        "\n",
        "\n",
        "\n",
        "\n"
      ],
      "metadata": {
        "id": "Ww3F50C7_05Z"
      }
    },
    {
      "cell_type": "code",
      "source": [
        "#numpy を　import\n",
        "import numpy as np"
      ],
      "metadata": {
        "id": "vLc5VEj9_ODg"
      },
      "execution_count": 2,
      "outputs": []
    },
    {
      "cell_type": "markdown",
      "source": [
        "## numpy配列(ndarray)を作る"
      ],
      "metadata": {
        "id": "4ry4iDllop_K"
      }
    },
    {
      "cell_type": "code",
      "source": [
        "a=np.array([5,7,3,1,4,3])\n",
        "print(a)"
      ],
      "metadata": {
        "colab": {
          "base_uri": "https://localhost:8080/"
        },
        "id": "P2Q6tkjcokWj",
        "outputId": "4283616b-b276-47bd-d123-774b51dcf364"
      },
      "execution_count": 3,
      "outputs": [
        {
          "output_type": "stream",
          "name": "stdout",
          "text": [
            "[5 7 3 1 4 3]\n"
          ]
        }
      ]
    },
    {
      "cell_type": "markdown",
      "source": [
        "## Numpyで配列を操作してみる\n",
        "## 配列を構成しなおす"
      ],
      "metadata": {
        "id": "BnVg9vPeqHN-"
      }
    },
    {
      "cell_type": "code",
      "source": [
        "#現在はaは一次元配列\n",
        "print(a)\n",
        "#aを３行２列の二次元配列に構成しなおす\n",
        "b=a.reshape([3,2])#新しい配列の構成を引数で指定する\n",
        "print(b)\n"
      ],
      "metadata": {
        "colab": {
          "base_uri": "https://localhost:8080/"
        },
        "id": "yQJgZYkdqFV6",
        "outputId": "39845368-ece9-41f6-9c05-a9e220301809"
      },
      "execution_count": 4,
      "outputs": [
        {
          "output_type": "stream",
          "name": "stdout",
          "text": [
            "[5 7 3 1 4 3]\n",
            "[[5 7]\n",
            " [3 1]\n",
            " [4 3]]\n"
          ]
        }
      ]
    },
    {
      "cell_type": "markdown",
      "source": [
        "## Numpy配列の中身を初期化している"
      ],
      "metadata": {
        "id": "5V8MBW15sT4_"
      }
    },
    {
      "cell_type": "code",
      "source": [
        "#3行４列の０が入った２次元配列を作る\n",
        "c=np.zeros((3,4))\n",
        "print(c)\n",
        "#ランダムな値が入った配列を作る\n",
        "np.random.seed(0)\n",
        "r=np.random.rand(3,4)\n",
        "print(r)"
      ],
      "metadata": {
        "colab": {
          "base_uri": "https://localhost:8080/"
        },
        "id": "pl7rQMwfrQZS",
        "outputId": "398e6176-18b6-4338-b2cc-61bc9f74a00b"
      },
      "execution_count": 5,
      "outputs": [
        {
          "output_type": "stream",
          "name": "stdout",
          "text": [
            "[[0. 0. 0. 0.]\n",
            " [0. 0. 0. 0.]\n",
            " [0. 0. 0. 0.]]\n",
            "[[0.5488135  0.71518937 0.60276338 0.54488318]\n",
            " [0.4236548  0.64589411 0.43758721 0.891773  ]\n",
            " [0.96366276 0.38344152 0.79172504 0.52889492]]\n"
          ]
        }
      ]
    },
    {
      "cell_type": "markdown",
      "source": [
        "## Numpyのスライスやり方\n",
        "# 基本\n",
        "スライスの指定の仕方[start:stop:step]で指定する"
      ],
      "metadata": {
        "id": "1mlGer8xuwwB"
      }
    },
    {
      "cell_type": "code",
      "source": [
        "#リストのスライス\n",
        "l=list(range(10))\n",
        "print(l)\n",
        "print(l[4:8])\n",
        "print(l[: :-1])"
      ],
      "metadata": {
        "colab": {
          "base_uri": "https://localhost:8080/"
        },
        "id": "4DWmjMZEtvrm",
        "outputId": "ae84a350-b0cf-43bd-d92c-20b3cea13097"
      },
      "execution_count": 6,
      "outputs": [
        {
          "output_type": "stream",
          "name": "stdout",
          "text": [
            "[0, 1, 2, 3, 4, 5, 6, 7, 8, 9]\n",
            "[4, 5, 6, 7]\n",
            "[9, 8, 7, 6, 5, 4, 3, 2, 1, 0]\n"
          ]
        }
      ]
    },
    {
      "cell_type": "markdown",
      "source": [
        "## 一次元のNumpy配列におけるスライス"
      ],
      "metadata": {
        "id": "v3QBunhBw6go"
      }
    },
    {
      "cell_type": "code",
      "source": [
        "a=np.arange(10)\n",
        "print(a)\n",
        "print(a[2:8])\n",
        "print(a[2:8:2])\n",
        "print(a[2:8:3])"
      ],
      "metadata": {
        "colab": {
          "base_uri": "https://localhost:8080/"
        },
        "id": "1X_ZqWQwvahm",
        "outputId": "b32aca6f-f2d6-41e0-9a62-db3426e1c812"
      },
      "execution_count": 7,
      "outputs": [
        {
          "output_type": "stream",
          "name": "stdout",
          "text": [
            "[0 1 2 3 4 5 6 7 8 9]\n",
            "[2 3 4 5 6 7]\n",
            "[2 4 6]\n",
            "[2 5]\n"
          ]
        }
      ]
    },
    {
      "cell_type": "markdown",
      "source": [
        "# １次元配列のnsarrayのスライスに代入"
      ],
      "metadata": {
        "id": "AtZr8mC7zu7g"
      }
    },
    {
      "cell_type": "code",
      "source": [
        "print(a)\n",
        "a[3:6]=100\n",
        "print(a)\n",
        "a[3:6]=[100,200,300]\n",
        "print(a)\n",
        "a=np.arange(10)\n",
        "print(a)\n",
        "a[2:8:2]=100\n",
        "print(a)"
      ],
      "metadata": {
        "colab": {
          "base_uri": "https://localhost:8080/"
        },
        "id": "PApSah4axtDD",
        "outputId": "b8fa6be2-2738-4ced-d53b-e5293c4364d1"
      },
      "execution_count": 8,
      "outputs": [
        {
          "output_type": "stream",
          "name": "stdout",
          "text": [
            "[0 1 2 3 4 5 6 7 8 9]\n",
            "[  0   1   2 100 100 100   6   7   8   9]\n",
            "[  0   1   2 100 200 300   6   7   8   9]\n",
            "[0 1 2 3 4 5 6 7 8 9]\n",
            "[  0   1 100   3 100   5 100   7   8   9]\n"
          ]
        }
      ]
    },
    {
      "cell_type": "markdown",
      "source": [
        "## 多次元配列のndarrayのスライス代入"
      ],
      "metadata": {
        "id": "juqJOSR_3Fk2"
      }
    },
    {
      "cell_type": "code",
      "source": [
        "a=np.arange(12).reshape((3,4))\n",
        "print(a)\n",
        "print(a[1:,1:3])\n",
        "b=np.arange(20).reshape(5,4)\n",
        "print(b)\n",
        "print(b[2:,1:3])\n",
        "c=b[2:,1:3]\n",
        "print(c.shape)"
      ],
      "metadata": {
        "colab": {
          "base_uri": "https://localhost:8080/"
        },
        "id": "cP11NQue0Cmn",
        "outputId": "2b45a682-f040-4b58-c230-3411f047e38a"
      },
      "execution_count": 9,
      "outputs": [
        {
          "output_type": "stream",
          "name": "stdout",
          "text": [
            "[[ 0  1  2  3]\n",
            " [ 4  5  6  7]\n",
            " [ 8  9 10 11]]\n",
            "[[ 5  6]\n",
            " [ 9 10]]\n",
            "[[ 0  1  2  3]\n",
            " [ 4  5  6  7]\n",
            " [ 8  9 10 11]\n",
            " [12 13 14 15]\n",
            " [16 17 18 19]]\n",
            "[[ 9 10]\n",
            " [13 14]\n",
            " [17 18]]\n",
            "(3, 2)\n"
          ]
        }
      ]
    },
    {
      "cell_type": "markdown",
      "source": [
        "## 多次元のndarrayへのスライスでの代入\n",
        "\n",
        "\n"
      ],
      "metadata": {
        "id": "Tsh_i_kbfDmE"
      }
    },
    {
      "cell_type": "code",
      "source": [
        "a=np.arange(12).reshape(3,4)\n",
        "print(a)\n",
        "print(a[1:,1:3])\n",
        "a[1,1:3]=100\n",
        "print(a)\n",
        "a=np.arange(12).reshape(3,4)\n",
        "a[1:,1:3]=[100,200]\n",
        "print(a)\n",
        "#多次元の上書きに2次元のリストを使う\n",
        "a[1:,1:3]=[[100,200],[300,400]]\n",
        "print(a)\n"
      ],
      "metadata": {
        "id": "Qs8m7hvQ3ctI",
        "colab": {
          "base_uri": "https://localhost:8080/"
        },
        "outputId": "84e701fa-336b-4aff-e2a3-ea575069d2dc"
      },
      "execution_count": 10,
      "outputs": [
        {
          "output_type": "stream",
          "name": "stdout",
          "text": [
            "[[ 0  1  2  3]\n",
            " [ 4  5  6  7]\n",
            " [ 8  9 10 11]]\n",
            "[[ 5  6]\n",
            " [ 9 10]]\n",
            "[[  0   1   2   3]\n",
            " [  4 100 100   7]\n",
            " [  8   9  10  11]]\n",
            "[[  0   1   2   3]\n",
            " [  4 100 200   7]\n",
            " [  8 100 200  11]]\n",
            "[[  0   1   2   3]\n",
            " [  4 100 200   7]\n",
            " [  8 300 400  11]]\n"
          ]
        }
      ]
    },
    {
      "cell_type": "markdown",
      "source": [
        "# 多次元のndarrayへのstepを使ったスライスでの代入"
      ],
      "metadata": {
        "id": "SvTEhtrtiuSF"
      }
    },
    {
      "cell_type": "code",
      "source": [
        "#要素数１２　３行４列のndarrayを作って変数aに1代入\n",
        "a=np.arange(12).reshape((3,4))\n",
        "print(a)\n",
        "#スライスにstep使ってみる\n",
        "print(a[1:,::2])\n",
        "print(a[:2,::3])\n",
        "a[1:,::2]=100\n",
        "print(a)\n",
        "#4,6,8,10だったところを多次元配列のリストで上書き\n",
        "a[1:,::2]=[[100,200],[300,400]]\n",
        "print(a)"
      ],
      "metadata": {
        "colab": {
          "base_uri": "https://localhost:8080/"
        },
        "id": "MtWW6Js_i_-y",
        "outputId": "8a2e346f-3e0c-4bb7-8830-0310e85a682f"
      },
      "execution_count": 11,
      "outputs": [
        {
          "output_type": "stream",
          "name": "stdout",
          "text": [
            "[[ 0  1  2  3]\n",
            " [ 4  5  6  7]\n",
            " [ 8  9 10 11]]\n",
            "[[ 4  6]\n",
            " [ 8 10]]\n",
            "[[0 3]\n",
            " [4 7]]\n",
            "[[  0   1   2   3]\n",
            " [100   5 100   7]\n",
            " [100   9 100  11]]\n",
            "[[  0   1   2   3]\n",
            " [100   5 200   7]\n",
            " [300   9 400  11]]\n"
          ]
        }
      ]
    },
    {
      "cell_type": "code",
      "source": [],
      "metadata": {
        "id": "GYk7g9womA-7"
      },
      "execution_count": 11,
      "outputs": []
    }
  ]
}