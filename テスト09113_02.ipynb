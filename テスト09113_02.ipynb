{
  "nbformat": 4,
  "nbformat_minor": 0,
  "metadata": {
    "colab": {
      "provenance": [],
      "authorship_tag": "ABX9TyMjEkcu6DrKMS28ZzdUEFqA",
      "include_colab_link": true
    },
    "kernelspec": {
      "name": "python3",
      "display_name": "Python 3"
    },
    "language_info": {
      "name": "python"
    }
  },
  "cells": [
    {
      "cell_type": "markdown",
      "metadata": {
        "id": "view-in-github",
        "colab_type": "text"
      },
      "source": [
        "<a href=\"https://colab.research.google.com/github/souma20713/DeepLearning2022Late/blob/main/%E3%83%86%E3%82%B9%E3%83%8809113_02.ipynb\" target=\"_parent\"><img src=\"https://colab.research.google.com/assets/colab-badge.svg\" alt=\"Open In Colab\"/></a>"
      ]
    },
    {
      "cell_type": "markdown",
      "source": [
        "# 辞書型（dictionary）\n",
        "キーと値のペアで管理する"
      ],
      "metadata": {
        "id": "Y-7c4BfvzL6b"
      }
    },
    {
      "cell_type": "code",
      "execution_count": null,
      "metadata": {
        "colab": {
          "base_uri": "https://localhost:8080/"
        },
        "id": "xCe1vUtwynzT",
        "outputId": "cbb5d537-d02c-4b9d-d88d-abdca169c872"
      },
      "outputs": [
        {
          "output_type": "stream",
          "name": "stdout",
          "text": [
            "{'アップル': 1, 'ペン': 2, 'パイナップル': 3}\n",
            "2\n"
          ]
        }
      ],
      "source": [
        "#辞書型のデータを作って変数dictに代入\n",
        "#{キーワード:値,\"キーワード\":値}　でデータを管理\n",
        "dict={\"アップル\":1,\"ペン\":2,\"パイナップル\":3}\n",
        "print(dict)\n",
        "print(dict[\"ペン\"])"
      ]
    },
    {
      "cell_type": "markdown",
      "source": [
        "辞書型のキーワード一覧、値一覧を取得する"
      ],
      "metadata": {
        "id": "33Fqt8VO1b6h"
      }
    },
    {
      "cell_type": "code",
      "source": [
        "print(dict)\n",
        "print(dict.keys())\n",
        "dict.values()"
      ],
      "metadata": {
        "colab": {
          "base_uri": "https://localhost:8080/"
        },
        "id": "guO534da1pEp",
        "outputId": "df0c9526-9fea-4e30-c872-51d3d63d9040"
      },
      "execution_count": null,
      "outputs": [
        {
          "output_type": "stream",
          "name": "stdout",
          "text": [
            "{'アップル': 1, 'ペン': 2, 'パイナップル': 3}\n",
            "dict_keys(['アップル', 'ペン', 'パイナップル'])\n"
          ]
        },
        {
          "output_type": "execute_result",
          "data": {
            "text/plain": [
              "dict_values([1, 2, 3])"
            ]
          },
          "metadata": {},
          "execution_count": 2
        }
      ]
    },
    {
      "cell_type": "markdown",
      "source": [
        "### 辞書型の追加、削除、更新"
      ],
      "metadata": {
        "id": "P7dUnWa61OOn"
      }
    },
    {
      "cell_type": "code",
      "source": [
        "print(dict)\n",
        "#print(dict.keys())\n",
        "dict[\"バナナ\"]=5\n",
        "print(dict)\n",
        "dict[\"バナナ\"]=100\n",
        "print(dict)"
      ],
      "metadata": {
        "colab": {
          "base_uri": "https://localhost:8080/"
        },
        "id": "yPtNB-0u02wD",
        "outputId": "e273bcf7-5d83-4a40-f2b9-2d2f9250a16f"
      },
      "execution_count": null,
      "outputs": [
        {
          "output_type": "stream",
          "name": "stdout",
          "text": [
            "{'アップル': 1, 'ペン': 2, 'パイナップル': 3}\n",
            "{'アップル': 1, 'ペン': 2, 'パイナップル': 3, 'バナナ': 5}\n",
            "{'アップル': 1, 'ペン': 2, 'パイナップル': 3, 'バナナ': 100}\n"
          ]
        }
      ]
    },
    {
      "cell_type": "markdown",
      "source": [
        "# 文字列の整形\n",
        "### 文字列の連結と繰り返し"
      ],
      "metadata": {
        "id": "8F2m8c5y4nMF"
      }
    },
    {
      "cell_type": "code",
      "source": [
        "#文字列連結方法①\n",
        "apple=\"アップル\"\n",
        "pen=\"ペン\"\n",
        "print(apple+pen)#+で連結\n",
        "piko = [\"ペン\",\"パイナップル\",\"アップル\"\"ペン\"]\n",
        "print(\",\".join(piko))\n",
        "pon=\"ポン\"\n",
        "print(pon*3)"
      ],
      "metadata": {
        "colab": {
          "base_uri": "https://localhost:8080/"
        },
        "id": "ErWiQdGE3bTw",
        "outputId": "279ae8f3-3512-4131-f78b-25ada65829d9"
      },
      "execution_count": null,
      "outputs": [
        {
          "output_type": "stream",
          "name": "stdout",
          "text": [
            "アップルペン\n",
            "ペン,パイナップル,アップルペン\n",
            "ポンポンポン\n"
          ]
        }
      ]
    },
    {
      "cell_type": "markdown",
      "source": [
        "### 【重要】文字列の整形（フォーマット）"
      ],
      "metadata": {
        "id": "dHzdHMZ37Gk7"
      }
    },
    {
      "cell_type": "code",
      "source": [
        "print(\"{}{}:{}円\")\n",
        "print(\"{}{}:{}円\".format(\"アップル\",\"ペン\",100))\n",
        "print(\"{}{}:{}円\".format(100,\"アップル\",\"ペン\"))"
      ],
      "metadata": {
        "colab": {
          "base_uri": "https://localhost:8080/"
        },
        "id": "7zcZ1joj7FXq",
        "outputId": "a02d0360-761a-4f2f-9db7-c1fabdef05b9"
      },
      "execution_count": null,
      "outputs": [
        {
          "output_type": "stream",
          "name": "stdout",
          "text": [
            "{}{}:{}円\n",
            "アップルペン:100円\n",
            "100アップル:ペン円\n"
          ]
        }
      ]
    },
    {
      "cell_type": "markdown",
      "source": [
        "# コレクションの演習\n",
        "リスト、タプル、つまり順番がある集合のことをシーケンスという。\n",
        "順番がない集合を集合型（セット）という。\n",
        "上記２種類をまとめてコレクションという。\n",
        "コレクションは共通の演算が使える。\n",
        "len（長さ、量を取得）。max（最大値を取得）、min（最小値を取得）など"
      ],
      "metadata": {
        "id": "DjhYiz1sYKLP"
      }
    },
    {
      "cell_type": "code",
      "source": [
        "list=[1,1,2,3,4,5]\n",
        "tuple = (10,9,7,7,8,9,9)\n",
        "set = {1,-2,3,-4,5,-6,7,-8}\n",
        "print(len(list), max(list),min(list))\n",
        "print(len(tuple), max(tuple),min(tuple))\n",
        "print(len(set), max(set),min(set))"
      ],
      "metadata": {
        "id": "fyBxjH7j8NGN",
        "colab": {
          "base_uri": "https://localhost:8080/"
        },
        "outputId": "7868df3b-cda5-4816-bd01-80e127b02a8d"
      },
      "execution_count": 2,
      "outputs": [
        {
          "output_type": "stream",
          "name": "stdout",
          "text": [
            "6 5 1\n",
            "7 10 7\n",
            "8 7 -8\n"
          ]
        }
      ]
    },
    {
      "cell_type": "code",
      "source": [],
      "metadata": {
        "id": "MCjvMUVYZEKR"
      },
      "execution_count": null,
      "outputs": []
    }
  ]
}